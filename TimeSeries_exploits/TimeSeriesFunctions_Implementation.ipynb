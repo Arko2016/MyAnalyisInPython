{
 "cells": [
  {
   "cell_type": "code",
   "execution_count": 1,
   "metadata": {
    "collapsed": true
   },
   "outputs": [],
   "source": [
    "series = [3,10,12,13,12,10,12]"
   ]
  },
  {
   "cell_type": "code",
   "execution_count": 16,
   "metadata": {
    "collapsed": false
   },
   "outputs": [
    {
     "data": {
      "text/plain": [
       "10.285714285714286"
      ]
     },
     "execution_count": 16,
     "metadata": {},
     "output_type": "execute_result"
    }
   ],
   "source": [
    "#simple average\n",
    "def average(series):\n",
    "    try:\n",
    "        if(len(series) == 0):\n",
    "            print(\"please enter a non-zero series\")\n",
    "            return 0\n",
    "        return(sum(series)/len(series))\n",
    "    #catch any exception\n",
    "    except:\n",
    "        print(\"please enter a valid series\")\n",
    "average(series)"
   ]
  },
  {
   "cell_type": "code",
   "execution_count": 18,
   "metadata": {
    "collapsed": false
   },
   "outputs": [
    {
     "data": {
      "text/plain": [
       "11.333333333333334"
      ]
     },
     "execution_count": 18,
     "metadata": {},
     "output_type": "execute_result"
    }
   ],
   "source": [
    "#moving average\n",
    "def moving_average(series,n=None):\n",
    "    try:\n",
    "        if(n is None):\n",
    "            return(sum(series)/len(series))\n",
    "        return(sum(series[-n:])/n)\n",
    "    except:\n",
    "        print(\"please enter a valid series\")\n",
    "moving_average(series,3)"
   ]
  },
  {
   "cell_type": "code",
   "execution_count": 25,
   "metadata": {
    "collapsed": false
   },
   "outputs": [
    {
     "name": "stdout",
     "output_type": "stream",
     "text": [
      "[0.1, 0.2, 0.3, 0.4]\n"
     ]
    },
    {
     "data": {
      "text/plain": [
       "12.0"
      ]
     },
     "execution_count": 25,
     "metadata": {},
     "output_type": "execute_result"
    }
   ],
   "source": [
    "#weighted average\n",
    "#Note: add a check for weights should be equal to 1\n",
    "def weighted_average(series,weights):\n",
    "    try:\n",
    "        if(sum(weights) != 1):\n",
    "            print(\"the sum of weights should be equal to 1\")\n",
    "            return\n",
    "        result=0.0\n",
    "        #sort the weights in descending order\n",
    "        sorted(weights,reverse=True)\n",
    "        #print(weights)\n",
    "        for n in range(len(weights)):\n",
    "            result = result + series[-n-1]*weights[n]\n",
    "        return(result)\n",
    "    except:\n",
    "        print(\"invalid input\")\n",
    "weights = [0.1, 0.2, 0.3, 0.4]\n",
    "weighted_average(series,weights)"
   ]
  },
  {
   "cell_type": "code",
   "execution_count": 29,
   "metadata": {
    "collapsed": false
   },
   "outputs": [
    {
     "data": {
      "text/plain": [
       "[3, 3.7, 10.2, 12.100000000000001, 12.900000000000002, 11.8, 10.2]"
      ]
     },
     "execution_count": 29,
     "metadata": {},
     "output_type": "execute_result"
    }
   ],
   "source": [
    "#exponential smoothing\n",
    "def expo_smoothing(series,alpha):\n",
    "    try:\n",
    "        if(alpha >= 1 or alpha < 0):\n",
    "            print(\"alpha should be between 0 and 1\")\n",
    "            return\n",
    "        #initialize result with the first value of series\n",
    "        result = [series[0]]\n",
    "        for n in range(1,len(series)):\n",
    "            result.append(series[n]*alpha + series[n-1]*(1-alpha))\n",
    "        return(result)\n",
    "    except:\n",
    "        print(\"invalid input\")\n",
    "expo_smoothing(series,0.9)\n",
    "expo_smoothing(series,0.1)"
   ]
  }
 ],
 "metadata": {
  "kernelspec": {
   "display_name": "Python [Root]",
   "language": "python",
   "name": "Python [Root]"
  },
  "language_info": {
   "codemirror_mode": {
    "name": "ipython",
    "version": 3
   },
   "file_extension": ".py",
   "mimetype": "text/x-python",
   "name": "python",
   "nbconvert_exporter": "python",
   "pygments_lexer": "ipython3",
   "version": "3.5.2"
  }
 },
 "nbformat": 4,
 "nbformat_minor": 0
}
