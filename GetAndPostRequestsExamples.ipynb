{
 "cells": [
  {
   "cell_type": "code",
   "execution_count": null,
   "metadata": {
    "collapsed": true
   },
   "outputs": [],
   "source": [
    "'''\n",
    "Reference Links :\n",
    "https://pythonspot.com/en/requests-http-for-humans/\n",
    "http://www.geeksforgeeks.org/get-post-requests-using-python/\n",
    "'''"
   ]
  },
  {
   "cell_type": "markdown",
   "metadata": {},
   "source": [
    "HTTP works as a request-response protocol between a client and server. A client (browser) submits an HTTP request to the server; then the server returns a response to the client. The response contains status information about the request and may also contain the requested content\n",
    "\n",
    "Two commonly used methods for a request-response between a client and server are: \n",
    "\n",
    "1) GET - Requests data from a specified resource\n",
    "\n",
    "2) POST - Submits data to be processed to a specified resource"
   ]
  },
  {
   "cell_type": "markdown",
   "metadata": {},
   "source": [
    "Some important points to note:\n",
    "\n",
    "1) GET has a request call length limit. Hence if the request call is long, POST should be used\n",
    "\n",
    "2) GET should be used for data Retrieval only. If processing is also required, POST is preferable\n",
    "\n",
    "3) GET should not be used for dealing with sensitive data. This is because GET requests can remain in browser memory and can be cached. POST does not have this issue\n",
    "\n",
    "4) When the method is GET, all form data is encoded into the URL, appended to the action URL as query string parameters. With POST, form data appears within the message body of the HTTP request"
   ]
  },
  {
   "cell_type": "code",
   "execution_count": 2,
   "metadata": {
    "collapsed": true
   },
   "outputs": [],
   "source": [
    "#import requisite modules\n",
    "import requests"
   ]
  },
  {
   "cell_type": "code",
   "execution_count": 24,
   "metadata": {
    "collapsed": false
   },
   "outputs": [
    {
     "name": "stdout",
     "output_type": "stream",
     "text": [
      "requested url:\n",
      "http://maps.googleapis.com/maps/api/geocode/json?address=delhi+technological+university \n",
      "\n",
      "request status: \n",
      " 200\n",
      "\n",
      " request-response json data:\n"
     ]
    },
    {
     "data": {
      "text/plain": [
       "{'results': [{'address_components': [{'long_name': 'Delhi',\n",
       "     'short_name': 'Delhi',\n",
       "     'types': ['locality', 'political']},\n",
       "    {'long_name': 'Delhi',\n",
       "     'short_name': 'DL',\n",
       "     'types': ['administrative_area_level_1', 'political']},\n",
       "    {'long_name': 'India',\n",
       "     'short_name': 'IN',\n",
       "     'types': ['country', 'political']},\n",
       "    {'long_name': '110042', 'short_name': '110042', 'types': ['postal_code']}],\n",
       "   'formatted_address': 'Shahbad Daulatpur, Main Bawana Road, Delhi, 110042, India',\n",
       "   'geometry': {'location': {'lat': 28.7500749, 'lng': 77.11766519999999},\n",
       "    'location_type': 'GEOMETRIC_CENTER',\n",
       "    'viewport': {'northeast': {'lat': 28.7514238802915,\n",
       "      'lng': 77.11901418029149},\n",
       "     'southwest': {'lat': 28.7487259197085, 'lng': 77.11631621970848}}},\n",
       "   'place_id': 'ChIJZclnKiEBDTkRsNEwHMpw1Ic',\n",
       "   'types': ['establishment', 'point_of_interest']}],\n",
       " 'status': 'OK'}"
      ]
     },
     "execution_count": 24,
     "metadata": {},
     "output_type": "execute_result"
    }
   ],
   "source": [
    "#making a GET request\n",
    "# api-endpoint\n",
    "URL = \"http://maps.googleapis.com/maps/api/geocode/json\"\n",
    "# location given here\n",
    "location = \"delhi technological university\"\n",
    "# defining a params dict for the parameters to be sent to the API\n",
    "PARAMS = {'address':location}\n",
    "# sending get request and saving the response as response object\n",
    "r = requests.get(url = URL, params = PARAMS)\n",
    "#view the response url\n",
    "print(\"requested url:\")\n",
    "print(r.url,\"\\n\")\n",
    "#print request status (200 indicates OK)\n",
    "print(\"request status: \\n\",r.status_code)\n",
    "# extracting data in json format\n",
    "data = r.json()\n",
    "print(\"\\n request-response json data:\")\n",
    "data"
   ]
  },
  {
   "cell_type": "code",
   "execution_count": 11,
   "metadata": {
    "collapsed": false
   },
   "outputs": [
    {
     "data": {
      "text/plain": [
       "2"
      ]
     },
     "execution_count": 11,
     "metadata": {},
     "output_type": "execute_result"
    }
   ],
   "source": [
    "#get the number of items in the list\n",
    "len(data)"
   ]
  },
  {
   "cell_type": "code",
   "execution_count": 21,
   "metadata": {
    "collapsed": false
   },
   "outputs": [
    {
     "name": "stdout",
     "output_type": "stream",
     "text": [
      "Latitude: 28.7500749 \n",
      "Longitude: 77.11766519999999 \n",
      "Formatted address: Shahbad Daulatpur, Main Bawana Road, Delhi, 110042, India\n"
     ]
    }
   ],
   "source": [
    "# extracting latitude, longitude and formatted address of the first matching location\n",
    "lat = data['results'][0]['geometry']['location']['lat']\n",
    "lon = data['results'][0]['geometry']['location']['lng']\n",
    "address = data['results'][0]['formatted_address']\n",
    "print(\"Latitude: {} \\nLongitude: {} \\nFormatted address: {}\".format(lat,lon,address))"
   ]
  },
  {
   "cell_type": "code",
   "execution_count": 25,
   "metadata": {
    "collapsed": true
   },
   "outputs": [],
   "source": [
    "#Making a POST request\n",
    "# defining the api-endpoint \n",
    "API_ENDPOINT = \"http://pastebin.com/api/api_post.php\"\n",
    "# your API key here\n",
    "API_KEY = \"850e5714670ce1021cba0f3b27b02949\"\n",
    "# your source code here\n",
    "source_code = '''\n",
    "print(\"Hello, world!\")\n",
    "a = 1\n",
    "b = 2\n",
    "print(a + b)\n",
    "'''\n",
    "# data to be sent to api\n",
    "data = {'api_dev_key':API_KEY,\n",
    "        'api_option':'paste',\n",
    "        'api_paste_code':source_code,\n",
    "        'api_paste_format':'python'}\n",
    "# sending post request and saving response as response object\n",
    "r = requests.post(url = API_ENDPOINT, data = data) "
   ]
  },
  {
   "cell_type": "code",
   "execution_count": 29,
   "metadata": {
    "collapsed": false
   },
   "outputs": [
    {
     "data": {
      "text/plain": [
       "'https://pastebin.com/22xwQQ0f'"
      ]
     },
     "execution_count": 29,
     "metadata": {},
     "output_type": "execute_result"
    }
   ],
   "source": [
    "#In response, the server processes the data sent to it and \n",
    "#sends the pastebin URL of your source_code which can be simply accessed by r.text\n",
    "r.text"
   ]
  }
 ],
 "metadata": {
  "anaconda-cloud": {},
  "kernelspec": {
   "display_name": "Python [Root]",
   "language": "python",
   "name": "Python [Root]"
  },
  "language_info": {
   "codemirror_mode": {
    "name": "ipython",
    "version": 3
   },
   "file_extension": ".py",
   "mimetype": "text/x-python",
   "name": "python",
   "nbconvert_exporter": "python",
   "pygments_lexer": "ipython3",
   "version": "3.5.2"
  }
 },
 "nbformat": 4,
 "nbformat_minor": 2
}
