{
 "cells": [
  {
   "cell_type": "code",
   "execution_count": 1,
   "metadata": {
    "collapsed": true,
    "nbpresent": {
     "id": "f9ad385f-d230-4764-8001-e90d1801edb2"
    }
   },
   "outputs": [],
   "source": [
    "import csv\n",
    "import numpy as np"
   ]
  },
  {
   "cell_type": "code",
   "execution_count": 16,
   "metadata": {
    "collapsed": true,
    "nbpresent": {
     "id": "8564c5e2-f47e-4e3b-859e-6b645127e240"
    }
   },
   "outputs": [],
   "source": [
    "#read the csv file. It is delimited by ',' and the data is stored in a list of lists\n",
    "with open('winequality-red.csv','r') as f:\n",
    "    wines = list(csv.reader(f,delimiter = ','))"
   ]
  },
  {
   "cell_type": "code",
   "execution_count": 17,
   "metadata": {
    "collapsed": false,
    "nbpresent": {
     "id": "55400e80-8c58-4ddd-a69f-42e545d3d0ee"
    }
   },
   "outputs": [
    {
     "data": {
      "text/plain": [
       "list"
      ]
     },
     "execution_count": 17,
     "metadata": {},
     "output_type": "execute_result"
    }
   ],
   "source": [
    "type(wines)"
   ]
  },
  {
   "cell_type": "code",
   "execution_count": 18,
   "metadata": {
    "collapsed": false,
    "nbpresent": {
     "id": "70b1becf-79d2-4834-9115-b0b49fc1256f"
    }
   },
   "outputs": [
    {
     "data": {
      "text/plain": [
       "[['fixed acidity',\n",
       "  'volatile acidity',\n",
       "  'citric acid',\n",
       "  'residual sugar',\n",
       "  'chlorides',\n",
       "  'free sulfur dioxide',\n",
       "  'total sulfur dioxide',\n",
       "  'density',\n",
       "  'pH',\n",
       "  'sulphates',\n",
       "  'alcohol',\n",
       "  'quality'],\n",
       " ['7.4',\n",
       "  '0.7',\n",
       "  '0',\n",
       "  '1.9',\n",
       "  '0.076',\n",
       "  '11',\n",
       "  '34',\n",
       "  '0.9978',\n",
       "  '3.51',\n",
       "  '0.56',\n",
       "  '9.4',\n",
       "  '5'],\n",
       " ['7.8',\n",
       "  '0.88',\n",
       "  '0',\n",
       "  '2.6',\n",
       "  '0.098',\n",
       "  '25',\n",
       "  '67',\n",
       "  '0.9968',\n",
       "  '3.2',\n",
       "  '0.68',\n",
       "  '9.8',\n",
       "  '5']]"
      ]
     },
     "execution_count": 18,
     "metadata": {},
     "output_type": "execute_result"
    }
   ],
   "source": [
    "wines[:3]"
   ]
  },
  {
   "cell_type": "code",
   "execution_count": 21,
   "metadata": {
    "collapsed": false,
    "nbpresent": {
     "id": "e70dd87e-6df6-4ee6-9c45-42a817ace7ef"
    }
   },
   "outputs": [
    {
     "name": "stdout",
     "output_type": "stream",
     "text": [
      "Average quality of wines = 5.6360225140712945\n"
     ]
    }
   ],
   "source": [
    "#calculate average quality of wines\n",
    "#extract the last column for each row -> convert to float and save these into a list -> find the average\n",
    "qualities = [float(item[-1]) for item in wines[1:]]\n",
    "average_quality = sum(qualities)/len(qualities)\n",
    "print(\"Average quality of wines =\",average_quality)"
   ]
  },
  {
   "cell_type": "markdown",
   "metadata": {
    "nbpresent": {
     "id": "59c6b102-e943-4fc3-9b9e-13316eebcd67"
    }
   },
   "source": [
    "With NumPy, we work with multidimensional arrays.  A 2-dimensional array is also known as a matrix, and is something you should be familiar with. In fact, it’s just a different way of thinking about a list of lists. A matrix has rows and columns. By specifying a row number and a column number, we’re able to extract an element from a matrix. "
   ]
  },
  {
   "cell_type": "code",
   "execution_count": 24,
   "metadata": {
    "collapsed": false,
    "nbpresent": {
     "id": "e7dc0666-a999-4754-afc6-60072d544155"
    }
   },
   "outputs": [
    {
     "data": {
      "text/plain": [
       "array([[  7.4  ,   0.7  ,   0.   , ...,   0.56 ,   9.4  ,   5.   ],\n",
       "       [  7.8  ,   0.88 ,   0.   , ...,   0.68 ,   9.8  ,   5.   ],\n",
       "       [  7.8  ,   0.76 ,   0.04 , ...,   0.65 ,   9.8  ,   5.   ],\n",
       "       ..., \n",
       "       [  6.3  ,   0.51 ,   0.13 , ...,   0.75 ,  11.   ,   6.   ],\n",
       "       [  5.9  ,   0.645,   0.12 , ...,   0.71 ,  10.2  ,   5.   ],\n",
       "       [  6.   ,   0.31 ,   0.47 , ...,   0.66 ,  11.   ,   6.   ]])"
      ]
     },
     "execution_count": 24,
     "metadata": {},
     "output_type": "execute_result"
    }
   ],
   "source": [
    "#Pass the list of lists wines into the array function, which converts it into a NumPy array.Exclude the header row with\n",
    "#list slicing -> Convert the data type to float\n",
    "wines = np.array(wines[1:],dtype=np.float)\n",
    "wines"
   ]
  },
  {
   "cell_type": "code",
   "execution_count": 25,
   "metadata": {
    "collapsed": false,
    "nbpresent": {
     "id": "a4b10588-6837-4b0a-8701-47132246dfd6"
    }
   },
   "outputs": [
    {
     "data": {
      "text/plain": [
       "(1599, 12)"
      ]
     },
     "execution_count": 25,
     "metadata": {},
     "output_type": "execute_result"
    }
   ],
   "source": [
    "#get the dimensions of the array\n",
    "wines.shape"
   ]
  },
  {
   "cell_type": "code",
   "execution_count": 27,
   "metadata": {
    "collapsed": false,
    "nbpresent": {
     "id": "e7a8de21-47fe-409c-a7c9-174bff35c556"
    }
   },
   "outputs": [
    {
     "data": {
      "text/plain": [
       "array([[ 0.,  0.,  0.,  0.],\n",
       "       [ 0.,  0.,  0.,  0.],\n",
       "       [ 0.,  0.,  0.,  0.]])"
      ]
     },
     "execution_count": 27,
     "metadata": {},
     "output_type": "execute_result"
    }
   ],
   "source": [
    "#create an empty numpy array\n",
    "empty_array = np.zeros((3,4))\n",
    "empty_array"
   ]
  },
  {
   "cell_type": "code",
   "execution_count": 46,
   "metadata": {
    "collapsed": false,
    "nbpresent": {
     "id": "97493f69-6eb9-4708-a3af-20749356f6ef"
    }
   },
   "outputs": [
    {
     "name": "stdout",
     "output_type": "stream",
     "text": [
      "[[ 0.82703479  0.76655068  0.9902614   0.27930781]\n",
      " [ 0.87107552  0.53851953  0.46679055  0.11197686]\n",
      " [ 0.16011837  0.24681891  0.88815951  0.28904628]\n",
      " [ 0.56119932  0.81842323  0.67745728  0.70792732]]\n",
      "[ 0.18588318  0.73764738  0.10122692  0.66757099]\n"
     ]
    }
   ],
   "source": [
    "#create a numpy 2d array with random numbers\n",
    "print(np.random.rand(4,4))\n",
    "#similarly create a 1d array\n",
    "print(np.random.rand(4))"
   ]
  },
  {
   "cell_type": "code",
   "execution_count": 31,
   "metadata": {
    "collapsed": false,
    "nbpresent": {
     "id": "8cd3b543-0167-4a78-a704-a2a978022284"
    }
   },
   "outputs": [
    {
     "data": {
      "text/plain": [
       "array([[  7.4  ,   0.7  ,   0.   , ...,   0.56 ,   9.4  ,   5.   ],\n",
       "       [  7.8  ,   0.88 ,   0.   , ...,   0.68 ,   9.8  ,   5.   ],\n",
       "       [  7.8  ,   0.76 ,   0.04 , ...,   0.65 ,   9.8  ,   5.   ],\n",
       "       ..., \n",
       "       [  6.3  ,   0.51 ,   0.13 , ...,   0.75 ,  11.   ,   6.   ],\n",
       "       [  5.9  ,   0.645,   0.12 , ...,   0.71 ,  10.2  ,   5.   ],\n",
       "       [  6.   ,   0.31 ,   0.47 , ...,   0.66 ,  11.   ,   6.   ]])"
      ]
     },
     "execution_count": 31,
     "metadata": {},
     "output_type": "execute_result"
    }
   ],
   "source": [
    "#read a csv file directly to numpy array\n",
    "#Use the genfromtxt function to read in the winequality-red.csv file.\n",
    "#Specify the keyword argument delimiter=\";\" so that the fields are parsed properly.\n",
    "#Specify the keyword argument skip_header=1 so that the header row is skipped.\n",
    "wines = np.genfromtxt('winequality-red.csv',delimiter=',',skip_header=1)\n",
    "wines"
   ]
  },
  {
   "cell_type": "markdown",
   "metadata": {
    "nbpresent": {
     "id": "cfe99dcd-abb5-4d30-af9e-babad31b2f14"
    }
   },
   "source": [
    "NumPy is zero-indexed, meaning that the index of the first row is 0, and the index of the first column is 0. If we want to work with the fourth row, we’d use index 3, if we want to work with the second row, we’d use index 1, and so on"
   ]
  },
  {
   "cell_type": "code",
   "execution_count": 33,
   "metadata": {
    "collapsed": false,
    "nbpresent": {
     "id": "bbf020a1-a0fc-46d9-a52c-47eb531df37c"
    }
   },
   "outputs": [
    {
     "name": "stdout",
     "output_type": "stream",
     "text": [
      "[ 1.9  2.6  2.3]\n",
      "[ 1.9  2.6  2.3]\n"
     ]
    }
   ],
   "source": [
    "#select the first three items from the fourth column\n",
    "print(wines[0:3,3])\n",
    "#this will be same as printing all the items from beginning to 3rd row for the fourth column\n",
    "print(wines[:3,3])"
   ]
  },
  {
   "cell_type": "code",
   "execution_count": 38,
   "metadata": {
    "collapsed": false,
    "nbpresent": {
     "id": "8369c529-5a39-43a2-bc84-7fc8cb1e1314"
    }
   },
   "outputs": [
    {
     "name": "stdout",
     "output_type": "stream",
     "text": [
      "[ 1.9  2.6  2.3 ...,  2.3  2.   3.6]\n",
      "[  7.4      0.7      0.       1.9      0.076   11.      34.       0.9978\n",
      "   3.51     0.56     9.4      5.    ]\n"
     ]
    }
   ],
   "source": [
    "#select the entire 4th column\n",
    "print(wines[:,3])\n",
    "#select the entire 5th row\n",
    "print(wines[4,:])\n",
    "#we can overwrite an entire column\n",
    "wines[:,11] = 50"
   ]
  },
  {
   "cell_type": "code",
   "execution_count": 43,
   "metadata": {
    "collapsed": false,
    "nbpresent": {
     "id": "ccb6f642-c91f-430d-9a05-f51f5986fd85"
    }
   },
   "outputs": [
    {
     "data": {
      "text/plain": [
       "array([[  7.40000000e+00,   7.00000000e-01,   0.00000000e+00, ...,\n",
       "          5.60000000e-01,   9.40000000e+00,   5.00000000e+01],\n",
       "       [  7.80000000e+00,   8.80000000e-01,   0.00000000e+00, ...,\n",
       "          6.80000000e-01,   9.80000000e+00,   5.00000000e+01],\n",
       "       [  7.80000000e+00,   7.60000000e-01,   4.00000000e-02, ...,\n",
       "          6.50000000e-01,   9.80000000e+00,   5.00000000e+01],\n",
       "       ..., \n",
       "       [  6.30000000e+00,   5.10000000e-01,   1.30000000e-01, ...,\n",
       "          7.50000000e-01,   1.10000000e+01,   5.00000000e+01],\n",
       "       [  5.90000000e+00,   6.45000000e-01,   1.20000000e-01, ...,\n",
       "          7.10000000e-01,   1.02000000e+01,   5.00000000e+01],\n",
       "       [  6.00000000e+00,   3.10000000e-01,   4.70000000e-01, ...,\n",
       "          6.60000000e-01,   1.10000000e+01,   5.00000000e+01]])"
      ]
     },
     "execution_count": 43,
     "metadata": {},
     "output_type": "execute_result"
    }
   ],
   "source": [
    "#insert a column before column 3. All the vlues in this column will b 0\n",
    "np.insert(wines,3,values=0,axis=1)\n",
    "#instead of 0s, we can inser a vector as well. Note that each column in the numpy array will be 1d array, or a vector\n",
    "np.insert(wines,3,values = wines[:,3],axis = 1)"
   ]
  },
  {
   "cell_type": "code",
   "execution_count": 45,
   "metadata": {
    "collapsed": false,
    "nbpresent": {
     "id": "379d99e0-2317-4df3-8b59-9429375fa43d"
    }
   },
   "outputs": [
    {
     "name": "stdout",
     "output_type": "stream",
     "text": [
      "[ 11.2     0.28    0.56    1.9     0.075  17.     60.      0.998   3.16\n",
      "   0.58    9.8    50.   ]\n",
      "0.075\n"
     ]
    }
   ],
   "source": [
    "#store the 3rd row of wines into a 1d array\n",
    "third_wine = wines[3,:]\n",
    "print(third_wine)\n",
    "#get the 5th element\n",
    "print(third_wine[4])"
   ]
  },
  {
   "cell_type": "code",
   "execution_count": 3,
   "metadata": {
    "collapsed": false,
    "nbpresent": {
     "id": "c2320767-2a38-4485-9a13-efcd3872e416"
    }
   },
   "outputs": [
    {
     "name": "stdout",
     "output_type": "stream",
     "text": [
      "datatype of wines array = float64\n",
      "datatype of int_wines array = int32\n"
     ]
    }
   ],
   "source": [
    "#converting from float to int\n",
    "print(\"datatype of wines array =\",wines.dtype)\n",
    "int_wines = wines.astype(int)\n",
    "print(\"datatype of int_wines array =\",int_wines.dtype.name)"
   ]
  },
  {
   "cell_type": "code",
   "execution_count": 15,
   "metadata": {
    "collapsed": false,
    "nbpresent": {
     "id": "ef1d3d0a-5480-4ab1-898c-0e5c035cea1a"
    }
   },
   "outputs": [
    {
     "name": "stdout",
     "output_type": "stream",
     "text": [
      "[array([500, 505, 490]), array([810, 450, 678]), array([234, 897, 430]), array([ 560, 1023,  640])]\n",
      "Dimensions of the n-dimensional numpy array:  (4, 3)\n",
      "3rd element of 2nd row:  678\n"
     ]
    }
   ],
   "source": [
    "#split a 1d array two equal n chunks\n",
    "array1 =  [500, 505, 490, 810, 450, 678, 234, 897, 430, 560, 1023, 640]\n",
    "array_split = np.array_split(array1,4)\n",
    "print(array_split)\n",
    "#the above will be a list. So we need to convert to an array\n",
    "array_split = np.array(array_split,dtype = np.int)\n",
    "print(\"Dimensions of the n-dimensional numpy array: \",array_split.shape)\n",
    "#print the 3rd element in row\n",
    "print(\"3rd element of 2nd row: \",array_split[1,2])"
   ]
  },
  {
   "cell_type": "code",
   "execution_count": 22,
   "metadata": {
    "collapsed": false,
    "nbpresent": {
     "id": "19146906-b9d1-4671-902f-fb33c4375a33"
    }
   },
   "outputs": [
    {
     "name": "stdout",
     "output_type": "stream",
     "text": [
      "[ 15.  15.  15. ...,  16.  15.  16.]\n",
      "[ 15.  15.  15. ...,  16.  15.  16.]\n"
     ]
    }
   ],
   "source": [
    "#Note the difference in the following two operations\n",
    "# add 10 points to each quality score\n",
    "print(wines[:,11]+10)\n",
    "#the following will perform the same operation and modify the quality column inplace\n",
    "wines[:,11] += 10\n",
    "print(wines[:,11])"
   ]
  },
  {
   "cell_type": "code",
   "execution_count": 32,
   "metadata": {
    "collapsed": false,
    "nbpresent": {
     "id": "1343734f-7d08-44a1-b947-f186dd2246b1"
    }
   },
   "outputs": [
    {
     "name": "stdout",
     "output_type": "stream",
     "text": [
      "[ 47.  49.  49. ...,  66.  51.  66.]\n",
      "total quality score for all wines:  9012\n"
     ]
    }
   ],
   "source": [
    "#multiple two columns of an array\n",
    "print(wines[:,10] * wines[:,11])\n",
    "#calculate sum of all the elements for a column\n",
    "print(\"total quality score for all wines: \",int(wines[:,11].sum()))"
   ]
  },
  {
   "cell_type": "markdown",
   "metadata": {
    "nbpresent": {
     "id": "827f4710-0309-4de4-b4f8-bf6288fdbc8b"
    }
   },
   "source": [
    "Unless the arrays that you’re operating on are the exact same size, it’s not possible to do elementwise operations. In cases like this, NumPy performs broadcasting to try to match up elements. Essentially, broadcasting involves a few steps:\n",
    "\n",
    "    The last dimension of each array is compared.\n",
    "        If the dimension lengths are equal, or one of the dimensions is of length 1, then we keep going.\n",
    "        If the dimension lengths aren’t equal, and none of the dimensions have length 1, then there’s an error.\n",
    "    Continue checking dimensions until the shortest array is out of dimensions.\n",
    "\n",
    "For example, the following two shapes are compatible:\n",
    "\n",
    "A: (50,3)\n",
    "B  (3,)\n",
    "\n",
    "This is because the length of the trailing dimension of array A is 3, and the length of the trailing dimension of array B is 3. They’re equal, so that dimension is okay. Array B is then out of elements, so we’re okay, and the arrays are compatible for mathematical operations.\n",
    "\n",
    "The following two shapes are also compatible:\n",
    "\n",
    "A: (1,2)\n",
    "B  (50,2)\n",
    "\n",
    "The last dimension matches, and A is of length 1 in the first dimension.\n",
    "\n",
    "These two arrays don’t match:\n",
    "\n",
    "A: (50,50)\n",
    "B: (49,49)\n",
    "\n",
    "The lengths of the dimensions aren’t equal, and neither array has either dimension length equal to 1"
   ]
  },
  {
   "cell_type": "code",
   "execution_count": 30,
   "metadata": {
    "collapsed": false
   },
   "outputs": [
    {
     "name": "stdout",
     "output_type": "stream",
     "text": [
      "(2, 2)\n",
      "(2,)\n",
      "2\n",
      "[[5 7]\n",
      " [7 9]]\n"
     ]
    }
   ],
   "source": [
    "#the following two arrays can be added since the last dimensions of both the arrays match\n",
    "array1 = np.array(\n",
    "[\n",
    "        [1,2],\n",
    "        [3,4]\n",
    "    ]\n",
    ")\n",
    "print(array1.shape)\n",
    "array2 = np.array([4,5])\n",
    "print(array2.shape)\n",
    "print(len(array2))\n",
    "print(array1 + array2)"
   ]
  },
  {
   "cell_type": "code",
   "execution_count": 35,
   "metadata": {
    "collapsed": false
   },
   "outputs": [
    {
     "name": "stdout",
     "output_type": "stream",
     "text": [
      "[ 13303.1        843.985      433.29      4059.55       139.859    25384.\n",
      "  74302.        1593.79794   5294.47      1052.38     16666.35      9012.     ]\n",
      "[  74.5438   123.0548    99.699   ...,  100.48174  105.21547   92.49249]\n"
     ]
    }
   ],
   "source": [
    "#the '0' axis relates to rows, '1' axis relates to columns.\n",
    "#for finding sum of all elements in each Column, we specify axis = 0. This is to indicate that calculate the sum of all rows\n",
    "# for each column. The resulting sums are printed in the form of a 1d array\n",
    "print(wines.sum(axis = 0))\n",
    "#similarly for printing the sum across each row, we specify axis = 1\n",
    "print(wines.sum(axis = 1))"
   ]
  },
  {
   "cell_type": "markdown",
   "metadata": {},
   "source": [
    "There are several other methods that behave like the sum method, including:\n",
    "\n",
    "    numpy.ndarray.mean – finds the mean of an array.\n",
    "    numpy.ndarray.std – finds the standard deviation of an array.\n",
    "    numpy.ndarray.min – finds the minimum value in an array.\n",
    "    numpy.ndarray.max – finds the maximum value in an array.\n"
   ]
  },
  {
   "cell_type": "code",
   "execution_count": 37,
   "metadata": {
    "collapsed": false
   },
   "outputs": [
    {
     "data": {
      "text/plain": [
       "array([ 34.,  67.,  54., ...,  40.,  44.,  42.])"
      ]
     },
     "execution_count": 37,
     "metadata": {},
     "output_type": "execute_result"
    }
   ],
   "source": [
    "# for example, find the max. element in each row\n",
    "wines.max(axis = 1)"
   ]
  },
  {
   "cell_type": "code",
   "execution_count": 38,
   "metadata": {
    "collapsed": false
   },
   "outputs": [
    {
     "data": {
      "text/plain": [
       "array([ True, False, False, False, False,  True,  True, False, False,\n",
       "       False,  True, False], dtype=bool)"
      ]
     },
     "execution_count": 38,
     "metadata": {},
     "output_type": "execute_result"
    }
   ],
   "source": [
    "#check which elements in 2nd row are greater than 5\n",
    "wines[4,:] > 5"
   ]
  },
  {
   "cell_type": "code",
   "execution_count": 41,
   "metadata": {
    "collapsed": false
   },
   "outputs": [
    {
     "name": "stdout",
     "output_type": "stream",
     "text": [
      "[[  7.30000000e+00   6.50000000e-01   0.00000000e+00   1.20000000e+00\n",
      "    6.50000000e-02   1.50000000e+01   2.10000000e+01   9.94600000e-01\n",
      "    3.39000000e+00   4.70000000e-01   1.00000000e+01   7.00000000e+00]\n",
      " [  7.80000000e+00   5.80000000e-01   2.00000000e-02   2.00000000e+00\n",
      "    7.30000000e-02   9.00000000e+00   1.80000000e+01   9.96800000e-01\n",
      "    3.36000000e+00   5.70000000e-01   9.50000000e+00   7.00000000e+00]\n",
      " [  8.50000000e+00   2.80000000e-01   5.60000000e-01   1.80000000e+00\n",
      "    9.20000000e-02   3.50000000e+01   1.03000000e+02   9.96900000e-01\n",
      "    3.30000000e+00   7.50000000e-01   1.05000000e+01   7.00000000e+00]]\n"
     ]
    }
   ],
   "source": [
    "#print the first 3 rows of the wines whose quality rating is more than 6\n",
    "high_quality = wines[:,11] > 6 #gives the index(as True/False) of all rows where quality is > 6\n",
    "print(wines[high_quality,:][:3,:])"
   ]
  },
  {
   "cell_type": "code",
   "execution_count": 48,
   "metadata": {
    "collapsed": false
   },
   "outputs": [
    {
     "name": "stdout",
     "output_type": "stream",
     "text": [
      "[[ 10.5   7. ]\n",
      " [ 10.5   7. ]\n",
      " [ 13.    7. ]\n",
      " [ 10.3   7. ]\n",
      " [ 10.8   7. ]]\n"
     ]
    }
   ],
   "source": [
    "# print wines with a lot of alcohol(say , >10) and high quality. Print only the last two columns and first 5 rows\n",
    "high_quality_lot_alcohol = (wines[:,11]>6) & (wines[:,10] >10)\n",
    "print(wines[high_quality_lot_alcohol,10:][:5,:])"
   ]
  },
  {
   "cell_type": "code",
   "execution_count": 52,
   "metadata": {
    "collapsed": false
   },
   "outputs": [
    {
     "name": "stdout",
     "output_type": "stream",
     "text": [
      "(12, 1599)\n",
      "[  7.4    0.7    0.   ...,   0.66  11.     6.  ]\n"
     ]
    }
   ],
   "source": [
    "#transpose the matrix\n",
    "print(np.transpose(wines).shape)\n",
    "#flatten the array from 2d to 1d\n",
    "print(np.ravel(wines))"
   ]
  },
  {
   "cell_type": "code",
   "execution_count": 54,
   "metadata": {
    "collapsed": false
   },
   "outputs": [
    {
     "name": "stdout",
     "output_type": "stream",
     "text": [
      "[[  7.8      0.88     0.       2.6      0.098   25.    ]\n",
      " [ 67.       0.9968   3.2      0.68     9.8      5.    ]]\n"
     ]
    }
   ],
   "source": [
    "#turn the second row of wines into a 2-dimensional array with 2 rows and 6 columns\n",
    "print(wines[1,:].reshape((2,6)))"
   ]
  },
  {
   "cell_type": "code",
   "execution_count": 59,
   "metadata": {
    "collapsed": false
   },
   "outputs": [],
   "source": [
    "#subset the last 100 rows of wines and write it to wines-last100.csv\n",
    "np.savetxt(\"wines-last100.csv\",wines[-100:,],delimiter= ',')\n",
    "#subset the first 100 rows of wines and write it to wines-first100.csv\n",
    "np.savetxt(\"wines-first100.csv\",wines[:100,],delimiter= ',')"
   ]
  },
  {
   "cell_type": "code",
   "execution_count": 66,
   "metadata": {
    "collapsed": false
   },
   "outputs": [
    {
     "name": "stdout",
     "output_type": "stream",
     "text": [
      "(200, 12)\n",
      "(100, 24)\n",
      "(200, 12)\n"
     ]
    }
   ],
   "source": [
    "#combine the first 100 rows of wines and last 100 rows of wine Vertically\n",
    "print(np.vstack((wines[:100,],wines[-100:,])).shape)\n",
    "#combine the first 100 rows of wines and last 100 rows of wine Horizontally\n",
    "print(np.hstack((wines[:100,],wines[-100:,])).shape)\n",
    "#alternatively, use concatenate. For this, axis =0 -> vstack and axis = 1 -> hstack\n",
    "print(np.concatenate((wines[:100,],wines[-100:,]),axis = 0).shape)"
   ]
  }
 ],
 "metadata": {
  "anaconda-cloud": {},
  "kernelspec": {
   "display_name": "Python [Root]",
   "language": "python",
   "name": "Python [Root]"
  },
  "language_info": {
   "codemirror_mode": {
    "name": "ipython",
    "version": 3
   },
   "file_extension": ".py",
   "mimetype": "text/x-python",
   "name": "python",
   "nbconvert_exporter": "python",
   "pygments_lexer": "ipython3",
   "version": "3.5.2"
  },
  "nbpresent": {
   "slides": {},
   "themes": {
    "default": "06dcc075-4268-4283-8ae7-0f6ab601a0d5",
    "theme": {
     "06dcc075-4268-4283-8ae7-0f6ab601a0d5": {
      "backgrounds": {
       "backgroundColor": {
        "background-color": "backgroundColor",
        "id": "backgroundColor"
       }
      },
      "id": "06dcc075-4268-4283-8ae7-0f6ab601a0d5",
      "palette": {
       "backgroundColor": {
        "id": "backgroundColor",
        "rgb": [
         17,
         17,
         17
        ]
       },
       "headingColor": {
        "id": "headingColor",
        "rgb": [
         238,
         238,
         238
        ]
       },
       "linkColor": {
        "id": "linkColor",
        "rgb": [
         231,
         173,
         82
        ]
       },
       "mainColor": {
        "id": "mainColor",
        "rgb": [
         238,
         238,
         238
        ]
       }
      },
      "rules": {
       "a": {
        "color": "linkColor"
       },
       "h1": {
        "color": "headingColor",
        "font-family": "Montserrat",
        "font-size": 7
       },
       "h2": {
        "color": "headingColor",
        "font-family": "Montserrat",
        "font-size": 5
       },
       "h3": {
        "color": "headingColor",
        "font-family": "Montserrat",
        "font-size": 3.75
       },
       "h4": {
        "color": "headingColor",
        "font-family": "Montserrat",
        "font-size": 3
       },
       "h5": {
        "color": "headingColor",
        "font-family": "Montserrat"
       },
       "h6": {
        "color": "headingColor",
        "font-family": "Montserrat"
       },
       "h7": {
        "color": "headingColor",
        "font-family": "Montserrat"
       },
       "li": {
        "color": "mainColor",
        "font-family": "Open Sans",
        "font-size": 4
       },
       "p": {
        "color": "mainColor",
        "font-family": "Open Sans",
        "font-size": 4
       }
      },
      "text-base": {
       "color": "mainColor",
       "font-family": "Open Sans",
       "font-size": 4
      }
     }
    }
   }
  }
 },
 "nbformat": 4,
 "nbformat_minor": 0
}
