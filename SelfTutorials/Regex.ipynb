{
 "cells": [
  {
   "cell_type": "code",
   "execution_count": 2,
   "metadata": {
    "collapsed": true
   },
   "outputs": [],
   "source": [
    "import re"
   ]
  },
  {
   "cell_type": "raw",
   "metadata": {},
   "source": [
    "We can use re.search() : This method either returns None if the pattern doesn't match, or a re.MatchObject with additional information about which part of the string the match was found."
   ]
  },
  {
   "cell_type": "code",
   "execution_count": 24,
   "metadata": {
    "collapsed": false
   },
   "outputs": [
    {
     "name": "stdout",
     "output_type": "stream",
     "text": [
      "Matching starting and ending points : 0  7\n",
      "Full string: June 25\n",
      "Month: June\n",
      "Day: 25\n"
     ]
    }
   ],
   "source": [
    "text1 = \"June 25\"\n",
    "#in the pattern the space in between is necessary to match with text1\n",
    "pattern = r\"([a-zA-Z]+) (\\d+)\"\n",
    "if re.search(pattern,\"June 24\"):\n",
    "    match = re.search(pattern,text1)\n",
    "    #print the start and end positions\n",
    "    print (\"Matching starting and ending points : %s  %s\" % (match.start(),match.end()))\n",
    "    #print the full part\n",
    "    print (\"Full string: %s\" % (match.group(0)))\n",
    "    #print the first part\n",
    "    print (\"Month: %s\" % (match.group(1)))\n",
    "    #print second part\n",
    "    print (\"Day: %s\" % (match.group(2)))\n",
    "else :\n",
    "    print (\"Pattern does not match text\")"
   ]
  },
  {
   "cell_type": "raw",
   "metadata": {},
   "source": [
    "Unlike the re.search() method above, we can use re.findall() to perform a global search over the whole input string. If there are capture groups in the pattern, then it will return a list of all the captured data, but otherwise, it will just return a list of the matches themselves, or an empty list if no matches are found.\n",
    "\n",
    "If you need additional context for each match, you can use re.finditer() which instead returns an iterator of re.MatchObjects to walk through. Both methods take the same parameters"
   ]
  },
  {
   "cell_type": "code",
   "execution_count": 5,
   "metadata": {
    "collapsed": false
   },
   "outputs": [
    {
     "name": "stdout",
     "output_type": "stream",
     "text": [
      "Full match : June 24\n",
      "Full match : Aug 31\n",
      "Full match : Sep 21\n"
     ]
    }
   ],
   "source": [
    "pattern2 = r\"[a-zA-Z]+ \\d+\"\n",
    "text2 = \"June 24,Aug 31,Sep 21\"\n",
    "match1 = re.findall(pattern2, text2)\n",
    "for match in match1:\n",
    "    print (\"Full match : %s\" % (match))"
   ]
  },
  {
   "cell_type": "code",
   "execution_count": 6,
   "metadata": {
    "collapsed": false
   },
   "outputs": [
    {
     "name": "stdout",
     "output_type": "stream",
     "text": [
      "match month : June\n",
      "match month : Aug\n",
      "match month : Sep\n"
     ]
    }
   ],
   "source": [
    "#match only month or date by changing pattern\n",
    "pattern3 = r\"([a-zA-Z]+) \\d+\"\n",
    "#pattern4 = r\"[a-zA-Z]+ (\\d+)\"\n",
    "match1 = re.findall(pattern3, text2)\n",
    "for match in match1:\n",
    "    print (\"match month : %s\" % (match))\n",
    "    #print (\"match date : %s\" % (match))"
   ]
  },
  {
   "cell_type": "code",
   "execution_count": 33,
   "metadata": {
    "collapsed": false
   },
   "outputs": [
    {
     "name": "stdout",
     "output_type": "stream",
     "text": [
      "match at index : 0,7\n",
      "match at index : 8,14\n",
      "match at index : 15,21\n"
     ]
    }
   ],
   "source": [
    "#need to find exact positions of the string match\n",
    "pattern3 = r\"([a-zA-Z]+) \\d+\"\n",
    "match1 = re.finditer(pattern3, text2)\n",
    "for match in match1:\n",
    "    print (\"match at index : %s,%s\" % (match.start(),match.end()))"
   ]
  },
  {
   "cell_type": "code",
   "execution_count": 20,
   "metadata": {
    "collapsed": false
   },
   "outputs": [
    {
     "name": "stdout",
     "output_type": "stream",
     "text": [
      "24 of June,31 of Aug,21 of Sep\n",
      "21 of SEp,JUN 12,Oct 11\n"
     ]
    }
   ],
   "source": [
    "#find and replace strings\n",
    "pattern3 = r\"([a-zA-Z]+) (\\d+)\"\n",
    "print(re.sub(pattern3,r\"\\2 of \\1\",text2,count = 0))\n",
    "#The optional count argument is the exact number of replacements to make in the input string, and if this is value is \n",
    "#less than or equal to zero, then every match in the string is replaced\n",
    "text3 = \"SEp 21,JUN 12,Oct 11\"\n",
    "print(re.sub(pattern3,r\"\\2 of \\1\",text3,count = 1,flags = re.IGNORECASE))"
   ]
  },
  {
   "cell_type": "code",
   "execution_count": 28,
   "metadata": {
    "collapsed": false
   },
   "outputs": [
    {
     "name": "stdout",
     "output_type": "stream",
     "text": [
      "0 11\n",
      "hello\n",
      "bonjour\n",
      "hello earth\n"
     ]
    }
   ],
   "source": [
    "#Compiling a pattern of performance is like saving the regex so that it can be called later\n",
    "regex_term = re.compile(r\"(\\w+) World\",flags = re.IGNORECASE)\n",
    "text = \"Hello world is easiest\"\n",
    "result = regex_term.search(text)\n",
    "if result:\n",
    "    print(result.start(),result.end())\n",
    "for result in regex_term.findall(\"hello world,bonjour world\"):\n",
    "    print(result)\n",
    "#for substitution, since the pattern is already present, we need to specify the replacement pattern and input string\n",
    "print(regex_term.sub(r\"\\1 earth\",\"hello world\"))"
   ]
  }
 ],
 "metadata": {
  "anaconda-cloud": {},
  "kernelspec": {
   "display_name": "Python [Root]",
   "language": "python",
   "name": "Python [Root]"
  },
  "language_info": {
   "codemirror_mode": {
    "name": "ipython",
    "version": 3
   },
   "file_extension": ".py",
   "mimetype": "text/x-python",
   "name": "python",
   "nbconvert_exporter": "python",
   "pygments_lexer": "ipython3",
   "version": "3.5.2"
  }
 },
 "nbformat": 4,
 "nbformat_minor": 0
}
