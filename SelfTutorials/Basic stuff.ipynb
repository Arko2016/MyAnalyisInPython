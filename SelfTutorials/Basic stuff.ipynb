{
 "cells": [
  {
   "cell_type": "code",
   "execution_count": 1,
   "metadata": {
    "collapsed": false
   },
   "outputs": [
    {
     "name": "stdout",
     "output_type": "stream",
     "text": [
      "my first notebook\n"
     ]
    }
   ],
   "source": [
    "print(\"my first notebook\")"
   ]
  },
  {
   "cell_type": "code",
   "execution_count": 2,
   "metadata": {
    "collapsed": false
   },
   "outputs": [
    {
     "name": "stdout",
     "output_type": "stream",
     "text": [
      "the sum of  7  and  3 = 10\n"
     ]
    }
   ],
   "source": [
    "#function example to add two numbers\n",
    "def myfunc1(num1=6,num2=3):\n",
    "    add = num1 + num2\n",
    "    print ('the sum of ',num1,' and ',num2, '=',add)\n",
    "myfunc1(7)"
   ]
  },
  {
   "cell_type": "markdown",
   "metadata": {},
   "source": [
    "a Global variable can be accessed anywhere but cannot be modified locally(inherently)\n",
    "a local variable can be only accessed and modified locally(inherently)\n",
    "Hence, to modify a global variable locally , there are 3 common options"
   ]
  },
  {
   "cell_type": "code",
   "execution_count": 10,
   "metadata": {
    "collapsed": false
   },
   "outputs": [
    {
     "name": "stdout",
     "output_type": "stream",
     "text": [
      "7\n",
      "Modified using global  14\n",
      "Current value =  14\n",
      "Modified using local ref  20\n",
      "Current value =  14\n",
      "Modified by function call  19\n",
      "Current value =  19\n"
     ]
    }
   ],
   "source": [
    "global_var = 7\n",
    "def local_func():\n",
    "    #use the \"global\" keyword to access the global variable\n",
    "    global global_var\n",
    "    print (global_var)\n",
    "    global_var+= 7\n",
    "    print (\"Modified using global \",global_var)\n",
    "local_func()\n",
    "print (\"Current value = \",global_var)\n",
    "def local_func2():\n",
    "    #use a local reference\n",
    "    local_var = global_var\n",
    "    local_var+= 6\n",
    "    print(\"Modified using local ref \",local_var)\n",
    "local_func2()\n",
    "print (\"Current value = \",global_var)\n",
    "def local_func3(modify_var):\n",
    "    modify_var+= 5\n",
    "    return modify_var\n",
    "global_var = local_func3(global_var)\n",
    "print(\"Modified by function call \",global_var)\n",
    "print (\"Current value = \",global_var)"
   ]
  },
  {
   "cell_type": "code",
   "execution_count": 11,
   "metadata": {
    "collapsed": false
   },
   "outputs": [
    {
     "name": "stdout",
     "output_type": "stream",
     "text": [
      "Sum =  9\n",
      "Product =  20\n"
     ]
    }
   ],
   "source": [
    "#example of class\n",
    "class my_class:\n",
    "    def addition(num1,num2):\n",
    "        print (\"Sum = \",num1+num2)\n",
    "    def multiply(num1,num2):\n",
    "        print (\"Product = \",num1*num2)\n",
    "my_class.addition(5,4)\n",
    "my_class.multiply(5,4)"
   ]
  },
  {
   "cell_type": "code",
   "execution_count": 13,
   "metadata": {
    "collapsed": false
   },
   "outputs": [
    {
     "name": "stdout",
     "output_type": "stream",
     "text": [
      "enter some value:5\n",
      "5\n"
     ]
    }
   ],
   "source": [
    "#get user input\n",
    "x = input(\"enter some value:\")\n",
    "print(x)"
   ]
  },
  {
   "cell_type": "code",
   "execution_count": 11,
   "metadata": {
    "collapsed": false
   },
   "outputs": [
    {
     "data": {
      "text/plain": [
       "['Jon', 'Jan', 'Jack', 'Dan', 'Bob', 'Alice']"
      ]
     },
     "execution_count": 11,
     "metadata": {},
     "output_type": "execute_result"
    }
   ],
   "source": [
    "#list manipulation\n",
    "x = [1,6,3,2,6,1,2,6,7]\n",
    "#add an element at the end\n",
    "x.append(10)\n",
    "x\n",
    "#add an element at a specific position\n",
    "x.insert(2,50)\n",
    "x\n",
    "x[0]\n",
    "#search for an element using index. This gives the first occurence of an element\n",
    "x.index(7)\n",
    "#return number of occurences of an element\n",
    "x.count(6)\n",
    "#sort and reverse strings\n",
    "y = ['Jan','Dan','Bob','Alice','Jon','Jack']\n",
    "y.sort()\n",
    "y\n",
    "y.reverse()\n",
    "y"
   ]
  },
  {
   "cell_type": "code",
   "execution_count": 30,
   "metadata": {
    "collapsed": false
   },
   "outputs": [
    {
     "name": "stdout",
     "output_type": "stream",
     "text": [
      "        date  col1  col2   color\n",
      "0 2014-08-16     3     9   green\n",
      "1 2014-12-21     2     3   black\n",
      "2 2014-09-21     2     6   black\n",
      "3 2014-07-08     7     9   green\n",
      "4 2014-11-14     7     6  yellow\n"
     ]
    }
   ],
   "source": [
    "#read an excel file using pandas\n",
    "import pandas as pd\n",
    "data_raw = pd.ExcelFile(\"sampledata1.xlsx\")\n",
    "data_raw.sheet_names\n",
    "#we need to parse the particular sheet . Else we won't be able to work with it\n",
    "data = data_raw.parse(\"Sheet1\")\n",
    "print(data.head())"
   ]
  },
  {
   "cell_type": "code",
   "execution_count": 38,
   "metadata": {
    "collapsed": false
   },
   "outputs": [
    {
     "name": "stdout",
     "output_type": "stream",
     "text": [
      "['date', '8/16/2014', '12/21/2014', '9/21/2014', '7/8/2014', '11/14/2014', '10/12/2014', '12/4/2014', '11/10/2014', '12/6/2014', '9/4/2014', '6/1/2014', '7/12/2014', '8/4/2014', '3/8/2014', '8/14/2014', '12/15/2014', '11/16/2014', '3/1/2014', '3/14/2014', '11/17/2014']\n",
      "['color', 'green', 'black', 'black', 'green', 'yellow', 'white', 'green', 'yellow', 'green', 'black', 'white', 'red', 'yellow', 'green', 'red', 'yellow', 'black', 'green', 'green', 'green']\n",
      "Enter a color : pink\n",
      "'pink' is not in list\n",
      "Color not found\n"
     ]
    }
   ],
   "source": [
    "#read a file using csv reader\n",
    "import csv\n",
    "with open(\"sampledata1.csv\") as csvfile:\n",
    "    #read the rows separated by \",\"\n",
    "    data = csv.reader(csvfile,delimiter = ',')\n",
    "    #declare empty list\n",
    "    dates = []\n",
    "    colors = []\n",
    "    #read each row\n",
    "    for row in data:\n",
    "        #get the dates and colors\n",
    "        dates.append(row[0])\n",
    "        colors.append(row[3])\n",
    "print(dates)\n",
    "print(colors)\n",
    "#display the first date instance for a user input color\n",
    "try:\n",
    "    color_input = input(\"Enter a color : \")\n",
    "    print(\"It was \",color_input, \" for first time on \",dates[colors.index(color_input)])\n",
    "except Exception as e:\n",
    "    print(e)\n",
    "    print(\"Color not found\")"
   ]
  },
  {
   "cell_type": "code",
   "execution_count": 41,
   "metadata": {
    "collapsed": false
   },
   "outputs": [
    {
     "name": "stdout",
     "output_type": "stream",
     "text": [
      "15\n",
      "white\n"
     ]
    }
   ],
   "source": [
    "#dictionary example\n",
    "my_dict = {'jack':[15,'black'],'will':[17,'grey'],'brad':[12,'white']}\n",
    "print(my_dict['jack'][0])\n",
    "print(my_dict['brad'][1])"
   ]
  }
 ],
 "metadata": {
  "anaconda-cloud": {},
  "kernelspec": {
   "display_name": "Python [Root]",
   "language": "python",
   "name": "Python [Root]"
  },
  "language_info": {
   "codemirror_mode": {
    "name": "ipython",
    "version": 3
   },
   "file_extension": ".py",
   "mimetype": "text/x-python",
   "name": "python",
   "nbconvert_exporter": "python",
   "pygments_lexer": "ipython3",
   "version": "3.5.2"
  }
 },
 "nbformat": 4,
 "nbformat_minor": 0
}
