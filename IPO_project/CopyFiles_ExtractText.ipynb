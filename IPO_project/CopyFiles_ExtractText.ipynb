{
 "cells": [
  {
   "cell_type": "code",
   "execution_count": null,
   "metadata": {
    "collapsed": true
   },
   "outputs": [],
   "source": [
    "import os\n",
    "import shutil\n",
    "import string"
   ]
  },
  {
   "cell_type": "code",
   "execution_count": null,
   "metadata": {
    "collapsed": false
   },
   "outputs": [],
   "source": [
    "path = \"C:/Users/Arko/Downloads/cleaned/\"\n",
    "os.chdir(path)\n",
    "dirs = os.listdir(path)\n",
    "#print(dirs)"
   ]
  },
  {
   "cell_type": "code",
   "execution_count": null,
   "metadata": {
    "collapsed": false
   },
   "outputs": [],
   "source": [
    "filestomove = ['1010286.txt', '1014187.txt', '1016152.txt', '1016281.txt', '1017174.txt', '1022225.txt', '1028442.txt', '1029299.txt', '1029825.txt', '1034755.txt', '1038083.txt', '1062613.txt', '1065910.txt', '1075658.txt', '1081935.txt', '1084726.txt', '1085621.txt', '1088348.txt', '1091667.txt', '1100370.txt', '1103415.txt', '1109189.txt', '1118037.txt', '1122904.txt', '1131517.txt', '1134224.txt', '1135271.txt', '1138118.txt', '1140184.txt', '1142417.txt', '1144980.txt', '1157601.txt', '1160958.txt', '1161448.txt', '1163348.txt', '1171218.txt', '1171486.txt', '1179060.txt', '1183765.txt', '1184702.txt', '1195933.txt', '1205727.txt', '1244937.txt', '1258602.txt', '1276187.txt', '1282631.txt', '1283843.txt', '1286681.txt', '1288776.txt', '1289308.txt', '1292026.txt', '1293282.txt', '1294538.txt', '1297067.txt', '1299130.txt', '1299210.txt', '1307954.txt', '1310094.txt', '1310663.txt', '1315257.txt', '1315695.txt', '1316625.txt', '1323974.txt', '1326428.txt', '1332626.txt', '1333513.txt', '1334036.txt', '1336920.txt', '1340354.txt', '1347218.txt', '1352713.txt', '1366649.txt', '1368622.txt', '1370314.txt', '1373980.txt', '1374310.txt', '1386198.txt', '1391127.txt', '1391672.txt', '1392972.txt', '1399249.txt', '1401688.txt', '1428669.txt', '1486800.txt', '1497770.txt', '316300.txt', '758722.txt', '839871.txt', '862841.txt', '876103.txt', '885306.txt']\n",
    "for file in dirs:\n",
    "    if file in filestomove:\n",
    "        #print(file)\n",
    "        filepath = path+str(file)\n",
    "        #print(filepath)\n",
    "        shutil.copy(filepath, \"C:/Users/Arko/Downloads/newfolder/\")"
   ]
  },
  {
   "cell_type": "code",
   "execution_count": 27,
   "metadata": {
    "collapsed": false
   },
   "outputs": [],
   "source": [
    "#Extract only those files whose content is before F-1 or else F-2\n",
    "path = \"C:/Users/Arko/Downloads/newfolder/\"\n",
    "os.chdir(path)\n",
    "dirs = os.listdir(path)\n",
    "for file in dirs:\n",
    "    with open (file,\"r\") as myfile:\n",
    "        text1=myfile.read()\n",
    "        if text1.find(\"F-1 \") != -1:\n",
    "            textsplit = text1.partition(\"F-1 \")\n",
    "        else:\n",
    "            textsplit = text1.partition(\"F-2 \")\n",
    "        filename = file.split(\".\")\n",
    "        #print(filename)\n",
    "        name=\"C:/Users/Arko/Downloads/newfolderMain/\"+str(filename[0])+\"_main.txt\"\n",
    "        file1 = open(name,'a')\n",
    "        file1.write(textsplit[0])\n",
    "        file1.close()"
   ]
  }
 ],
 "metadata": {
  "kernelspec": {
   "display_name": "Python [Root]",
   "language": "python",
   "name": "Python [Root]"
  },
  "language_info": {
   "codemirror_mode": {
    "name": "ipython",
    "version": 3
   },
   "file_extension": ".py",
   "mimetype": "text/x-python",
   "name": "python",
   "nbconvert_exporter": "python",
   "pygments_lexer": "ipython3",
   "version": "3.5.2"
  }
 },
 "nbformat": 4,
 "nbformat_minor": 0
}
