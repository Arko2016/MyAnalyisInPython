{
 "cells": [
  {
   "cell_type": "code",
   "execution_count": 15,
   "metadata": {
    "collapsed": true
   },
   "outputs": [],
   "source": [
    "import fnmatch\n",
    "import os\n",
    "import shutil"
   ]
  },
  {
   "cell_type": "code",
   "execution_count": 18,
   "metadata": {
    "collapsed": false
   },
   "outputs": [],
   "source": [
    "#to copy all files ending with .txt extension\n",
    "path = \"C:/Users/Arko/Downloads/Studies/PersonalResearch/IPO_project/DATA/maindocs/\"\n",
    "os.chdir(path)\n",
    "dirs = os.listdir(path)\n",
    "for file in dirs:\n",
    "    if fnmatch.fnmatch(file,'*_main.txt'):\n",
    "        shutil.copy(file,\"C:/Users/Arko/Downloads/Studies/PersonalResearch/IPO_project/DATA/Originalfiles/\")"
   ]
  },
  {
   "cell_type": "code",
   "execution_count": null,
   "metadata": {
    "collapsed": true
   },
   "outputs": [],
   "source": [
    "#copy files from one location to another based on filename\n",
    "filestomove = ['1010286.txt', '1014187.txt', '1016152.txt', '1016281.txt']\n",
    "for file in dirs:\n",
    "    if file in filestomove:\n",
    "        print(file)\n",
    "        filepath = path+str(file)\n",
    "        print(filepath)\n",
    "        shutil.copy(filepath, \"C:/Users/Arko/Downloads/newfolder/\")"
   ]
  },
  {
   "cell_type": "code",
   "execution_count": null,
   "metadata": {
    "collapsed": true
   },
   "outputs": [],
   "source": []
  }
 ],
 "metadata": {
  "kernelspec": {
   "display_name": "Python [Root]",
   "language": "python",
   "name": "Python [Root]"
  },
  "language_info": {
   "codemirror_mode": {
    "name": "ipython",
    "version": 3
   },
   "file_extension": ".py",
   "mimetype": "text/x-python",
   "name": "python",
   "nbconvert_exporter": "python",
   "pygments_lexer": "ipython3",
   "version": "3.5.2"
  }
 },
 "nbformat": 4,
 "nbformat_minor": 0
}
