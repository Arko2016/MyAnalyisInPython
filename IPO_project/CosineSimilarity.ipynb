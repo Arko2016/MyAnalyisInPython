{
 "cells": [
  {
   "cell_type": "code",
   "execution_count": 91,
   "metadata": {
    "collapsed": true
   },
   "outputs": [],
   "source": [
    "import re, os, sys\n",
    "from sklearn.feature_extraction.text import TfidfVectorizer\n",
    "from sklearn.metrics.pairwise import cosine_similarity\n",
    "from sklearn.metrics.pairwise import linear_kernel\n",
    "import pandas as pd\n",
    "from decimal import *"
   ]
  },
  {
   "cell_type": "code",
   "execution_count": 92,
   "metadata": {
    "collapsed": false
   },
   "outputs": [],
   "source": [
    "corpusdata=[]\n",
    "# path for the location where all documents are placed\n",
    "path = \"C:/Users/Arko/Downloads/Studies/PersonalResearch/IPO_project/DATA/CleanedData/\"\n",
    "os.chdir(path)\n",
    "dirs = os.listdir(path)\n",
    "#print(dirs)\n",
    "for file in dirs:\n",
    "    #print file\n",
    "    with open (file, \"r\") as myfile:\n",
    "        text1=myfile.read()\n",
    "        corpusdata.extend([text1])\n",
    "tfidf = TfidfVectorizer().fit_transform(corpusdata)"
   ]
  },
  {
   "cell_type": "code",
   "execution_count": 93,
   "metadata": {
    "collapsed": false
   },
   "outputs": [
    {
     "name": "stdout",
     "output_type": "stream",
     "text": [
      "(1633, 423562)\n"
     ]
    }
   ],
   "source": [
    "print(tfidf.shape)"
   ]
  },
  {
   "cell_type": "code",
   "execution_count": null,
   "metadata": {
    "collapsed": false
   },
   "outputs": [],
   "source": [
    "xyz = cosine_similarity(tfidf[0:1], tfidf)\n",
    "xyz"
   ]
  },
  {
   "cell_type": "code",
   "execution_count": 94,
   "metadata": {
    "collapsed": false
   },
   "outputs": [],
   "source": [
    "df = pd.DataFrame(columns=('cik','cosine_similarity'))\n",
    "for i in range(0,len(dirs)):\n",
    "    #similarity = cosine_similarity(tfidf[i:i+1],tfidf).flatten()\n",
    "    similarity = (linear_kernel(tfidf[i:i+1],tfidf)).tolist()[0]\n",
    "    #round each element in the list to 4 decimal places\n",
    "    similarity = [float(Decimal(\"%.4f\" % e)) for e in similarity]\n",
    "    #print(type(similarity))\n",
    "    #print(similarity)\n",
    "    fname = dirs[i].split(\"_\")[0]\n",
    "    df.loc[i,'cik'] = fname\n",
    "    df.loc[i,'cosine_similarity'] = similarity"
   ]
  },
  {
   "cell_type": "code",
   "execution_count": 95,
   "metadata": {
    "collapsed": false
   },
   "outputs": [],
   "source": [
    "df.to_csv('C:/Users/Arko/Downloads/Studies/PersonalResearch/IPO_project/cosine_similarity.csv')"
   ]
  },
  {
   "cell_type": "code",
   "execution_count": null,
   "metadata": {
    "collapsed": true
   },
   "outputs": [],
   "source": [
    "# Create a Pandas Excel writer using XlsxWriter as the engine.\n",
    "writer = pd.ExcelWriter('C:/Users/Arko/Downloads/Studies/PersonalResearch/IPO_project/cosine.xlsx', engine='xlsxwriter')\n",
    "# Convert the dataframe to an XlsxWriter Excel object.\n",
    "df.to_excel(writer, sheet_name='Sheet1')\n",
    "# Close the Pandas Excel writer and output the Excel file.\n",
    "writer.save()"
   ]
  },
  {
   "cell_type": "code",
   "execution_count": null,
   "metadata": {
    "collapsed": false
   },
   "outputs": [],
   "source": [
    "df"
   ]
  }
 ],
 "metadata": {
  "anaconda-cloud": {},
  "kernelspec": {
   "display_name": "Python [Root]",
   "language": "python",
   "name": "Python [Root]"
  },
  "language_info": {
   "codemirror_mode": {
    "name": "ipython",
    "version": 3
   },
   "file_extension": ".py",
   "mimetype": "text/x-python",
   "name": "python",
   "nbconvert_exporter": "python",
   "pygments_lexer": "ipython3",
   "version": "3.5.2"
  }
 },
 "nbformat": 4,
 "nbformat_minor": 0
}
