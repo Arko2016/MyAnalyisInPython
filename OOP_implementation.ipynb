{
 "cells": [
  {
   "cell_type": "code",
   "execution_count": null,
   "metadata": {
    "collapsed": true
   },
   "outputs": [],
   "source": [
    "#check if an employee has achieved his weekly target or not\n",
    "#define class\n",
    "class Employee:\n",
    "    #define attributes\n",
    "    name = \"Ben\"\n",
    "    designation = \"Sales Executive\"\n",
    "    salesMadeThisWeek = 6\n",
    "    #define method\n",
    "    def hasAchievedTarget(self):\n",
    "        if self.salesMadeThisWeek >= 5:\n",
    "            print(\"target achieved\")\n",
    "        else:\n",
    "            print(\"target failed\")"
   ]
  },
  {
   "cell_type": "code",
   "execution_count": null,
   "metadata": {
    "collapsed": false
   },
   "outputs": [],
   "source": [
    "#object instantiation\n",
    "employeeOne = Employee()\n",
    "print(employeeOne.name)\n",
    "employeeOne.hasAchievedTarget()\n",
    "'''\n",
    "Note: if we give print in the above statement, there will be a \"None\" printed at the last line.This is because, \n",
    "if we call the hasAchieved function inside print(), then print will try to give the return value from this function\n",
    "However, since this method does not return anything, print() will give None\n",
    "'''"
   ]
  },
  {
   "cell_type": "code",
   "execution_count": null,
   "metadata": {
    "collapsed": false
   },
   "outputs": [],
   "source": [
    "'''\n",
    "Class attribute : common to all instances of the class\n",
    "Instance attribute : specific to the instance/object for which it is defined\n",
    "'''\n",
    "class Employee2:\n",
    "    numberofWorkinghours = 5\n",
    "employeeOne = Employee2()\n",
    "employeeTwo = Employee2()\n",
    "#class attribute\n",
    "print(employeeOne.numberofWorkinghours)\n",
    "print(employeeTwo.numberofWorkinghours)\n",
    "#instance attribute\n",
    "employeeOne.name = \"ben\"\n",
    "print(employeeOne.name)\n",
    "#will throw attribute error\n",
    "#print(employeeTwo.name)\n",
    "employeeTwo.name = \"mary\"\n",
    "print(employeeTwo.name)\n",
    "#changing value of a class attrbute -> reflected across all instances of the class\n",
    "Employee2.numberofWorkinghours = 10\n",
    "print(employeeOne.numberofWorkinghours)\n",
    "print(employeeTwo.numberofWorkinghours)"
   ]
  },
  {
   "cell_type": "code",
   "execution_count": null,
   "metadata": {
    "collapsed": false
   },
   "outputs": [],
   "source": [
    "#understanding self attribute\n",
    "class Employee3:\n",
    "    def empDetails():\n",
    "        pass\n",
    "employeeOne = Employee3()\n",
    "employeeOne.empDetails()\n",
    "'''\n",
    "the above statement throws error. This is because the above statement is equivalent to :\n",
    "Employee3.empDetails(employeeOne)\n",
    "So with the above call, the class is actually invoking the method with the object name as its attribute. However,\n",
    "the function takes 0 arguments. Hence the error. That is why we need to give the 'self' argument.\n",
    "self can be replaced with any other word, but is used as a convention\n",
    "'''"
   ]
  },
  {
   "cell_type": "code",
   "execution_count": null,
   "metadata": {
    "collapsed": false
   },
   "outputs": [],
   "source": [
    "class Employee4:\n",
    "    def empDetails(self):\n",
    "        #define one attribute with self and other without\n",
    "        self.name = \"Matt\"\n",
    "        age = 6\n",
    "    #trying to invoke parameters of one method in another\n",
    "    def printEmpDetails(self):\n",
    "        print(self.name)\n",
    "        print(age)\n",
    "employeeOne = Employee4()\n",
    "employeeOne.printEmpDetails()\n",
    "'''\n",
    "The above statement gives error, since without self argument, one method is unable to access the attributes of another function\n",
    "although both belong to the same class. Without self, once the empDetails method terminates, the age attribute can't be used\n",
    "in any other method\n",
    "'''"
   ]
  },
  {
   "cell_type": "code",
   "execution_count": 3,
   "metadata": {
    "collapsed": false
   },
   "outputs": [
    {
     "ename": "AttributeError",
     "evalue": "'Person' object has no attribute 'name'",
     "output_type": "error",
     "traceback": [
      "\u001b[1;31m---------------------------------------------------------------------------\u001b[0m",
      "\u001b[1;31mAttributeError\u001b[0m                            Traceback (most recent call last)",
      "\u001b[1;32m<ipython-input-3-75a938507fed>\u001b[0m in \u001b[0;36m<module>\u001b[1;34m()\u001b[0m\n\u001b[0;32m      7\u001b[0m \u001b[0mobj1\u001b[0m \u001b[1;33m=\u001b[0m \u001b[0mPerson\u001b[0m\u001b[1;33m(\u001b[0m\u001b[1;33m)\u001b[0m\u001b[1;33m\u001b[0m\u001b[0m\n\u001b[0;32m      8\u001b[0m \u001b[1;31m#this will give an error since the getName(), required to initialize the attribute name was not invoked before\u001b[0m\u001b[1;33m\u001b[0m\u001b[1;33m\u001b[0m\u001b[0m\n\u001b[1;32m----> 9\u001b[1;33m \u001b[0mobj1\u001b[0m\u001b[1;33m.\u001b[0m\u001b[0mprintName\u001b[0m\u001b[1;33m(\u001b[0m\u001b[1;33m)\u001b[0m\u001b[1;33m\u001b[0m\u001b[0m\n\u001b[0m",
      "\u001b[1;32m<ipython-input-3-75a938507fed>\u001b[0m in \u001b[0;36mprintName\u001b[1;34m(self)\u001b[0m\n\u001b[0;32m      4\u001b[0m         \u001b[0mself\u001b[0m\u001b[1;33m.\u001b[0m\u001b[0mname\u001b[0m \u001b[1;33m=\u001b[0m \u001b[1;34m\"Ben\"\u001b[0m\u001b[1;33m\u001b[0m\u001b[0m\n\u001b[0;32m      5\u001b[0m     \u001b[1;32mdef\u001b[0m \u001b[0mprintName\u001b[0m\u001b[1;33m(\u001b[0m\u001b[0mself\u001b[0m\u001b[1;33m)\u001b[0m\u001b[1;33m:\u001b[0m\u001b[1;33m\u001b[0m\u001b[0m\n\u001b[1;32m----> 6\u001b[1;33m         \u001b[0mprint\u001b[0m\u001b[1;33m(\u001b[0m\u001b[1;34m\"Name:\"\u001b[0m\u001b[1;33m,\u001b[0m\u001b[0mself\u001b[0m\u001b[1;33m.\u001b[0m\u001b[0mname\u001b[0m\u001b[1;33m)\u001b[0m\u001b[1;33m\u001b[0m\u001b[0m\n\u001b[0m\u001b[0;32m      7\u001b[0m \u001b[0mobj1\u001b[0m \u001b[1;33m=\u001b[0m \u001b[0mPerson\u001b[0m\u001b[1;33m(\u001b[0m\u001b[1;33m)\u001b[0m\u001b[1;33m\u001b[0m\u001b[0m\n\u001b[0;32m      8\u001b[0m \u001b[1;31m#this will give an error since the getName(), required to initialize the attribute name was not invoked before\u001b[0m\u001b[1;33m\u001b[0m\u001b[1;33m\u001b[0m\u001b[0m\n",
      "\u001b[1;31mAttributeError\u001b[0m: 'Person' object has no attribute 'name'"
     ]
    }
   ],
   "source": [
    "#problem of invoking an attribute before initializing it\n",
    "class Person:\n",
    "    def getName(self):\n",
    "        self.name = \"Ben\"\n",
    "    def printName(self):\n",
    "        print(\"Name:\",self.name)\n",
    "obj1 = Person()\n",
    "#this will give an error since the getName(), required to initialize the attribute name was not invoked before\n",
    "obj1.printName()"
   ]
  },
  {
   "cell_type": "code",
   "execution_count": 2,
   "metadata": {
    "collapsed": false
   },
   "outputs": [
    {
     "name": "stdout",
     "output_type": "stream",
     "text": [
      "Name: Ben\n"
     ]
    }
   ],
   "source": [
    "#__init__ method : is run as soon as an object of a class is instantiated. The method is useful to do any \n",
    "#initialization you want to do with your object. This is the first method which gets executed when an object of a class\n",
    "#is created\n",
    "class Person:\n",
    "    def __init__(self):\n",
    "        self.name = \"Ben\"\n",
    "    def printName(self):\n",
    "        print(\"Name:\",self.name)\n",
    "obj1 = Person()\n",
    "obj1.printName()"
   ]
  },
  {
   "cell_type": "code",
   "execution_count": 10,
   "metadata": {
    "collapsed": false
   },
   "outputs": [
    {
     "name": "stdout",
     "output_type": "stream",
     "text": [
      "Name: Mark\n",
      "Name: Stuart\n"
     ]
    }
   ],
   "source": [
    "#the above method will hardcode the initialization the value. We should parameterize the same\n",
    "class Person2:\n",
    "    def __init__(self,name):\n",
    "        #self.name -> instance attribute, name -> argument passed during object creation\n",
    "        self.name = name\n",
    "    def printName(self):\n",
    "        print(\"Name:\",self.name)\n",
    "obj2 = Person2(\"Mark\")\n",
    "obj3 = Person2(\"Stuart\")\n",
    "obj2.printName()\n",
    "obj3.printName()"
   ]
  },
  {
   "cell_type": "code",
   "execution_count": 5,
   "metadata": {
    "collapsed": false
   },
   "outputs": [
    {
     "name": "stdout",
     "output_type": "stream",
     "text": [
      "4\n",
      "4\n",
      "'apple'\n",
      "apple\n"
     ]
    },
    {
     "ename": "NameError",
     "evalue": "name 'apple' is not defined",
     "output_type": "error",
     "traceback": [
      "\u001b[1;31m---------------------------------------------------------------------------\u001b[0m",
      "\u001b[1;31mNameError\u001b[0m                                 Traceback (most recent call last)",
      "\u001b[1;32m<ipython-input-5-5afc207be7be>\u001b[0m in \u001b[0;36m<module>\u001b[1;34m()\u001b[0m\n\u001b[0;32m     17\u001b[0m '''\n\u001b[0;32m     18\u001b[0m \u001b[0my2\u001b[0m \u001b[1;33m=\u001b[0m \u001b[0meval\u001b[0m\u001b[1;33m(\u001b[0m\u001b[0mrepr\u001b[0m\u001b[1;33m(\u001b[0m\u001b[0my\u001b[0m\u001b[1;33m)\u001b[0m\u001b[1;33m)\u001b[0m\u001b[1;33m\u001b[0m\u001b[0m\n\u001b[1;32m---> 19\u001b[1;33m \u001b[0my3\u001b[0m \u001b[1;33m=\u001b[0m \u001b[0meval\u001b[0m\u001b[1;33m(\u001b[0m\u001b[0mstr\u001b[0m\u001b[1;33m(\u001b[0m\u001b[0my\u001b[0m\u001b[1;33m)\u001b[0m\u001b[1;33m)\u001b[0m\u001b[1;33m\u001b[0m\u001b[0m\n\u001b[0m",
      "\u001b[1;32m<string>\u001b[0m in \u001b[0;36m<module>\u001b[1;34m()\u001b[0m\n",
      "\u001b[1;31mNameError\u001b[0m: name 'apple' is not defined"
     ]
    }
   ],
   "source": [
    "'''\n",
    "__str__ vs __repr__ methods:\n",
    " __repr__ is a built-in function used to compute the \"official\" string reputation of an object, \n",
    " while __str__ is a built-in function that computes the \"informal\" string representations of an object\n",
    "'''\n",
    "#No difference while converting and printing an integer to string\n",
    "x = 4\n",
    "print(repr(x))\n",
    "print(str(x))\n",
    "#there's a difference between the return values for string -> one is formal and the other is informal\n",
    "y = 'apple'\n",
    "print(repr(y))\n",
    "print(str(y))\n",
    "'''\n",
    "One of the most important differences between the formal and informal representations is that the default implementation\n",
    "of __repr__ for a str value can be called as an argument to eval, and the return value would be a valid string object\n",
    "'''\n",
    "y2 = eval(repr(y))\n",
    "#this will give an error since the return value of str cannot be accepted as an argument to eval\n",
    "y3 = eval(str(y))"
   ]
  },
  {
   "cell_type": "code",
   "execution_count": 6,
   "metadata": {
    "collapsed": true
   },
   "outputs": [],
   "source": [
    "#instance, class and static methods\n",
    "#decorator is needed to extend the functionality of a method\n",
    "class myClass:\n",
    "    #static method\n",
    "    #decorator needed\n",
    "    @staticmethod\n",
    "    def mystaticmethod():\n",
    "        return(\"static method called\")\n",
    "    #class method\n",
    "    #decorator needed\n",
    "    @classmethod\n",
    "    def myclassmethod(cls):\n",
    "        return(\"class method called\",cls)\n",
    "    #instance method\n",
    "    #no decorator needed\n",
    "    def myinstancemethod(self):\n",
    "        return(\"instance method called\",self)"
   ]
  },
  {
   "cell_type": "markdown",
   "metadata": {},
   "source": [
    "Object Namespace\n",
    "\n",
    "An object namespace protects named objects from unauthorized access. Creating a private namespace enables applications and services to build a more secure environment.\n",
    "\n",
    "Instance Methods\n",
    "\n",
    "The method takes one parameter, self, which points to an instance of MyClass when the method is called (but of course instance methods can accept more than just one parameter).\n",
    "Through the self parameter, instance methods can freely access attributes and other methods on the same object. This gives them a lot of power when it comes to modifying an object’s state.\n",
    "Not only can they modify object state, instance methods can also access the class itself through the self.__class__ attribute. This means instance methods can also modify class state.\n",
    "\n",
    "Class Methods\n",
    "\n",
    "Marked this method with a @classmethod decorator to flag it as a class method\n",
    "Instead of accepting a self parameter, class methods take a cls parameter that points to the class—and not the object instance—when the method is called.\n",
    "Because the class method only has access to this cls argument, it can’t modify object instance state. That would require access to self. However, class methods can still modify class state that applies across all instances of the class\n",
    "\n",
    "Static Methods\n",
    "\n",
    "Marked with a @staticmethod decorator to flag it as a static method.\n",
    "This type of method takes neither a self nor a cls parameter (but of course it’s free to accept an arbitrary number of other parameters).\n",
    "Therefore a static method can neither modify object state nor class state. Static methods are restricted in what data they can access – and they’re primarily a way to namespace your methods\n",
    "\n",
    "Why to us Static Methods?\n",
    "\n",
    "Static methods have limited use, because they don't have access to the attributes of an instance of a class (like a regular method does), and they don't have access to the attributes of the class itself (like a class method does).So they aren't useful for day-to-day methods.\n",
    "\n",
    "However, they can be useful to group some utility function together with a class - e.g. a simple conversion from one type to another - that doesn't need access to any information apart from the parameters provided (and perhaps some attributes global to the module.).\n",
    "They could be put outside the class, but grouping them inside the class may make sense where they are only applicable there."
   ]
  },
  {
   "cell_type": "code",
   "execution_count": 8,
   "metadata": {
    "collapsed": false
   },
   "outputs": [
    {
     "name": "stdout",
     "output_type": "stream",
     "text": [
      "static method called\n",
      "('class method called', <class '__main__.myClass'>)\n",
      "('instance method called', <__main__.myClass object at 0x00000000043A45F8>)\n"
     ]
    }
   ],
   "source": [
    "obj = myClass()\n",
    "print(obj.mystaticmethod())\n",
    "print(obj.myclassmethod())\n",
    "print(obj.myinstancemethod())"
   ]
  },
  {
   "cell_type": "code",
   "execution_count": 16,
   "metadata": {
    "collapsed": false
   },
   "outputs": [
    {
     "name": "stdout",
     "output_type": "stream",
     "text": [
      "Ruby Emerald Sapphire Diamond Amber Emerald Sapphire Diamond Amber Onyx "
     ]
    }
   ],
   "source": [
    "'''\n",
    "Write an object oriented program to create a precious stone. Not more than 5 precious stones can be held in possession at\n",
    "a given point of time. If there are more than 5 precious stones, delete the first stone and store the new one.\n",
    "'''\n",
    "class stones:\n",
    "    #defining class attributes\n",
    "    #these are not defined inside the __init__ method since we need to update the values each time the function is invoked\n",
    "    numbstones = 0\n",
    "    stoneslist = []\n",
    "    def __init__(self,name):\n",
    "        self.name = name\n",
    "        #increment # of stones\n",
    "        stones.numbstones += 1\n",
    "        #check if # of stones is > 5\n",
    "        if stones.numbstones > 5 :\n",
    "            del stones.stoneslist[0]\n",
    "            #Note: here we are adding only the name attribute to the list. If there are multiple attributes for the object,\n",
    "            #we can appned the entire object (in the form of self) to the list\n",
    "            stones.stoneslist.append(self.name)\n",
    "        else:\n",
    "            stones.stoneslist.append(self.name)\n",
    "    #define a static method to display the names of stones\n",
    "    @staticmethod\n",
    "    def displayStones():\n",
    "        for names in stones.stoneslist:\n",
    "            #Note: here, if we had appended the entire object on top, we would have specified the specific attribute name \n",
    "            #while printing\n",
    "            print(names,end=' ')\n",
    "\n",
    "preciousStoneOne  = stones(\"Ruby\")\n",
    "preciousStoneTwo  = stones(\"Emerald\")\n",
    "preciousStoneThree  = stones(\"Sapphire\")\n",
    "preciousStoneFour  = stones(\"Diamond\")\n",
    "preciousStoneFive  = stones(\"Amber\")\n",
    "preciousStoneFive.displayStones()\n",
    "preciousStoneSix = stones(\"Onyx\")\n",
    "# Print all the stones after deleting the first stone\n",
    "preciousStoneSix.displayStones()"
   ]
  },
  {
   "cell_type": "code",
   "execution_count": null,
   "metadata": {
    "collapsed": true
   },
   "outputs": [],
   "source": [
    "#Encapsulation: hiding end user details from end user\n",
    "#Abstraction: process followed to achieve encapsulation"
   ]
  },
  {
   "cell_type": "code",
   "execution_count": 3,
   "metadata": {
    "collapsed": false
   },
   "outputs": [
    {
     "name": "stdout",
     "output_type": "stream",
     "text": [
      "\n",
      "Enter 1 for diplaying available books\n",
      "Enter 2 for borrowing book\n",
      "Enter 3 for returning book\n",
      "Enter 4 or any other number to quit\n",
      "Enter choice(1-4): 2\n",
      "Name of the book required? Book3\n",
      "Book3  is issued to you\n",
      "\n",
      "Enter 1 for diplaying available books\n",
      "Enter 2 for borrowing book\n",
      "Enter 3 for returning book\n",
      "Enter 4 or any other number to quit\n",
      "Enter choice(1-4): 1\n",
      "Following books are available:\n",
      "Book1\n",
      "Book2\n",
      "\n",
      "Enter 1 for diplaying available books\n",
      "Enter 2 for borrowing book\n",
      "Enter 3 for returning book\n",
      "Enter 4 or any other number to quit\n",
      "Enter choice(1-4): 5\n"
     ]
    }
   ],
   "source": [
    "'''\n",
    "Implementing a Library management system:\n",
    "3 things to be kept in mind:\n",
    "1) the customer can see all the books availbale in the library\n",
    "2) the customer can request to borrow a book which will be issued if available\n",
    "3) when the book is returned, the list in library should be updated\n",
    "'''\n",
    "#to implement this, we will use 2 classes : Library and Customer\n",
    "import sys\n",
    "class Library:\n",
    "    #initialize the available books using the argument list passed during object creation\n",
    "    def __init__(self,availableBooks):\n",
    "        self.availableBooks = availableBooks\n",
    "    \n",
    "    #display list of available books\n",
    "    def displayBooks(self):\n",
    "        print(\"Following books are available:\")\n",
    "        for book in self.availableBooks:\n",
    "            print(book)\n",
    "    \n",
    "    #after the user has requested a book, the book is issued if available and list is updated\n",
    "    def lendBook(self,requestedBook):\n",
    "        if requestedBook in self.availableBooks:\n",
    "            print(requestedBook, \" is issued to you\")\n",
    "            self.availableBooks.remove(requestedBook)\n",
    "        else:\n",
    "            print(\"Sorry, \", requestedBook, \" is currently unavailable\")\n",
    "    \n",
    "    #after the customer returns the book, the list is updated\n",
    "    def addBook(self,returnedBook):\n",
    "        if returnedBook not in self.availableBooks:\n",
    "            self.availableBooks.append(returnedBook)\n",
    "            print(returnedBook, \" has been returned\")\n",
    "        else:\n",
    "            self.availableBooks.append(returnedBook)\n",
    "            print(\"A new copy of \", returnedBook,\" has been added to Library\")\n",
    "        \n",
    "class Customer:\n",
    "    #enter the book requested\n",
    "    def requestBook(self):\n",
    "        self.rbook = input(\"Name of the book required? \")\n",
    "        return(self.rbook)\n",
    "        \n",
    "    #enter the book to be returned\n",
    "    def returnBook(self):\n",
    "        self.rebook = input(\"Name of the book to be returned? \")\n",
    "        return(self.rebook)\n",
    "\n",
    "#initialise objects for the 2 classes\n",
    "objLibrary = Library(['Book1','Book2','Book3'])\n",
    "objCustomer = Customer()\n",
    "status = \"Continue\"\n",
    "while status == \"Continue\":\n",
    "    #display choices\n",
    "    print()\n",
    "    print(\"Enter 1 for diplaying available books\")\n",
    "    print(\"Enter 2 for borrowing book\")\n",
    "    print(\"Enter 3 for returning book\")\n",
    "    print(\"Enter 4 or any other number to quit\")\n",
    "    #input user's choice\n",
    "    try:\n",
    "        userChoice = int(input(\"Enter choice(1-4): \"))\n",
    "        if(userChoice == 1):\n",
    "            objLibrary.displayBooks()\n",
    "        elif(userChoice == 2):\n",
    "            book = objCustomer.requestBook()\n",
    "            objLibrary.lendBook(book)\n",
    "        elif(userChoice == 3):\n",
    "            book = objCustomer.returnBook()\n",
    "            objLibrary.addBook(book)\n",
    "        else:\n",
    "            status = \"Exit\"\n",
    "    except:\n",
    "        print(\"May try entering only numeric choice.Following error was encountered:\")\n",
    "        print(sys.exc_info()[0])\n",
    "        status = \"Exit\""
   ]
  },
  {
   "cell_type": "code",
   "execution_count": 2,
   "metadata": {
    "collapsed": false
   },
   "outputs": [
    {
     "name": "stdout",
     "output_type": "stream",
     "text": [
      "\n",
      "enter 1 for displaying car options\n",
      "enter 2 for getting fare estimate\n",
      "enter 3 or any other number to exit\n",
      "Enter choice: 7\n",
      "thanks for visiting\n"
     ]
    }
   ],
   "source": [
    "'''\n",
    "Write a program to provide layers of abstraction for a car rental system.\n",
    "Your program should perform the following:\n",
    "1. Hatchback, Sedan, SUV should be type of cars that are being provided for rent\n",
    "2. Cost per day:\n",
    "Hatchback - $30\n",
    "Sedan - $50\n",
    "SUV - $100\n",
    "3. Give a prompt to the customer asking him the type of car and the number of days he would like to borrow and provide \n",
    "the fare details to the user.\n",
    "'''\n",
    "class Cars:\n",
    "    def __init__(self):\n",
    "        #create a dictionary to store the car fares based on type\n",
    "        self.carfares = {\"HATCHBACK\":30,\"SEDAN\":50,\"SUV\":100}\n",
    "    \n",
    "    #display the fares\n",
    "    def displayCarFares(self):\n",
    "        print(\"Following are the car options:\")\n",
    "        print(\"Hatchback : $\",self.carfares['HATCHBACK'])\n",
    "        print(\"Sedan : $\",self.carfares['SEDAN'])\n",
    "        print(\"SUV : $\",self.carfares['SUV'])\n",
    "    \n",
    "    #calculate total fare\n",
    "    def calculateFare(self,numbDays,cartype):\n",
    "        if cartype.upper() in self.carfares.keys():\n",
    "            self.totalfare = self.carfares[cartype.upper()] * numbDays\n",
    "            print(\"Total Fare for renting \",cartype,\" for \",numbDays,\"days is: $\",self.totalfare)\n",
    "        else:\n",
    "            print(\"Sorry, \",cartype,\" is not available\")\n",
    "\n",
    "objCars = Cars()\n",
    "#display choices for the user\n",
    "print()\n",
    "print(\"enter 1 for displaying car options\")\n",
    "print(\"enter 2 for getting fare estimate\")\n",
    "print(\"enter 3 or any other number to exit\")\n",
    "\n",
    "try:\n",
    "    status = \"Continue\"\n",
    "    while status == \"Continue\":\n",
    "        uchoice = int(input(\"Enter choice: \"))\n",
    "        if(uchoice == 1):\n",
    "            objCars.displayCarFares()\n",
    "        elif(uchoice == 2):\n",
    "            try:\n",
    "                numbDays = int(input(\"Enter number of days for renting the car: \"))\n",
    "            except:\n",
    "                print(\"Please enter a numeric input\")\n",
    "                status = \"exit\"\n",
    "            cartype = input(\"enter type of car to rent: \")\n",
    "            objCars.calculateFare(numbDays,cartype)\n",
    "        else:\n",
    "            print(\"thanks for visiting\")\n",
    "            status = \"exit\"\n",
    "except:\n",
    "    print(\"enter numeric choice\")"
   ]
  },
  {
   "cell_type": "code",
   "execution_count": 14,
   "metadata": {
    "collapsed": false
   },
   "outputs": [
    {
     "name": "stdout",
     "output_type": "stream",
     "text": [
      "Manufacturer:  Apple\n",
      "The product was manufactured in year and 2017 contact website is www.apple.com/contact\n"
     ]
    }
   ],
   "source": [
    "#single level Inheritance\n",
    "#define parent class\n",
    "class Apple:\n",
    "    manufacturer = \"Apple\"\n",
    "    contactWebsite = \"www.apple.com/contact\"\n",
    "    def displayDetails(self):\n",
    "        print(\"Manufacturer: \",self.manufacturer)\n",
    "\n",
    "#define child class\n",
    "class Macbook(Apple):\n",
    "    def __init__(self):\n",
    "        self.yearofManufacture = 2017\n",
    "    def contactDetails(self):\n",
    "        print(\"The product was manufactured in year and {} contact website is {}\".format(self.yearofManufacture,self.contactWebsite))\n",
    "\n",
    "#create an object of childclass and invoke the methods of both parent and child class\n",
    "obj1 = Macbook()\n",
    "obj1.displayDetails()\n",
    "obj1.contactDetails()"
   ]
  },
  {
   "cell_type": "code",
   "execution_count": 15,
   "metadata": {
    "collapsed": false
   },
   "outputs": [
    {
     "name": "stdout",
     "output_type": "stream",
     "text": [
      "This is a multitasking system. Visit websit www.apple.com\n"
     ]
    }
   ],
   "source": [
    "#multiple inheritance\n",
    "class OperatingSystem:\n",
    "    multitasking = True\n",
    "\n",
    "class Apple:\n",
    "    website = \"www.apple.com\"\n",
    "    \n",
    "class MacBook(OperatingSystem,Apple):\n",
    "    def displayDetails(self):\n",
    "        if self.multitasking == True:\n",
    "            print(\"This is a multitasking system. Visit websit {}\".format(self.website))\n",
    "\n",
    "obj1 = MacBook()\n",
    "obj1.displayDetails()"
   ]
  },
  {
   "cell_type": "code",
   "execution_count": 16,
   "metadata": {
    "collapsed": false
   },
   "outputs": [
    {
     "name": "stdout",
     "output_type": "stream",
     "text": [
      "This is a multitasking system. Visit websit www.apple.com\n",
      "Class inherited first : Parent Class 1\n"
     ]
    }
   ],
   "source": [
    "'''\n",
    "Problem with Multiple inheritance: If both the parent classes have an attribute with the same name, then if the object from\n",
    "child class invokes the attributte, the attribute belonging to the first parent class being inherited gets invoked\n",
    "'''\n",
    "class OperatingSystem:\n",
    "    multitasking = True\n",
    "    name = \"Parent Class 1\"\n",
    "\n",
    "class Apple:\n",
    "    website = \"www.apple.com\"\n",
    "    name = \"Parent Class 2\"\n",
    "    \n",
    "    \n",
    "class MacBook(OperatingSystem,Apple):\n",
    "    def displayDetails(self):\n",
    "        if self.multitasking == True:\n",
    "            print(\"This is a multitasking system. Visit websit {}\".format(self.website))\n",
    "            print(\"Class inherited first : {}\".format(self.name))\n",
    "\n",
    "obj1 = MacBook()\n",
    "obj1.displayDetails()"
   ]
  },
  {
   "cell_type": "code",
   "execution_count": 18,
   "metadata": {
    "collapsed": false
   },
   "outputs": [
    {
     "name": "stdout",
     "output_type": "stream",
     "text": [
      "The instrument has 6 strings. It is made of Tonewood and has 12 keys\n"
     ]
    }
   ],
   "source": [
    "#Multi-Level Inheritance\n",
    "class MusicalInstruments:\n",
    "    numberofKeys = 12\n",
    "\n",
    "class StringInstruments(MusicalInstruments):\n",
    "    typeofWood = \"Tonewood\"\n",
    "    \n",
    "class Guitar(StringInstruments):\n",
    "    def __init__(self):\n",
    "        self.numberofStrings = 6\n",
    "        print(\"The instrument has {} strings. It is made of {} and has {} keys\".format(self.numberofStrings,\n",
    "                                                                                      self.typeofWood,\n",
    "                                                                                      self.numberofKeys))\n",
    "\n",
    "obj1 = Guitar()"
   ]
  },
  {
   "cell_type": "code",
   "execution_count": 5,
   "metadata": {
    "collapsed": false
   },
   "outputs": [
    {
     "name": "stdout",
     "output_type": "stream",
     "text": [
      "Protected attribute color : Red \n",
      "Private attribute year : 2016 \n",
      "Public attribute numberofWheels : 4 \n"
     ]
    }
   ],
   "source": [
    "#Public,Private and Protected => implemented through how an attribute is defined\n",
    "#Public : memberName\n",
    "#Protected : _memberName\n",
    "#Private : __memberName\n",
    "\n",
    "'''\n",
    "For Publice attributes, we give double underscore(__) beacuse internally the attribute is being invoked alongwith the\n",
    "class name, that is, _<class name>__<sttribute name>\n",
    "'''\n",
    "\n",
    "class Car:\n",
    "    numberofWheels = 4 #Public\n",
    "    _color = \"Red\" #Protected\n",
    "    __yearofManufacture = 2016 #Private\n",
    "\n",
    "class Bmw(Car):\n",
    "    def __init__(self):\n",
    "        #this will be printed whenever an object of Bmw is created since it is defined in the init() method\n",
    "        print(\"Protected attribute color : {} \".format(self._color))\n",
    "\n",
    "carobj = Car()\n",
    "bmwobj = Bmw()\n",
    "print(\"Private attribute year : {} \".format(carobj._Car__yearofManufacture))\n",
    "#in the above statement, the class named also needed since this is a private attribute\n",
    "print(\"Public attribute numberofWheels : {} \".format(bmwobj.numberofWheels))\n"
   ]
  },
  {
   "cell_type": "code",
   "execution_count": 8,
   "metadata": {
    "collapsed": false
   },
   "outputs": [
    {
     "name": "stdout",
     "output_type": "stream",
     "text": [
      "Do you want to change wood type (Y/N)? Y\n",
      "Enter type of wood: mahogani\n",
      "the furniture is made of mahogani and has 4 legs\n"
     ]
    }
   ],
   "source": [
    "'''\n",
    "Write an object oriented program that performs the following tasks:\n",
    "1. Create a class called Chair from the base class Furniture\n",
    "2. Teakwood should be the type of furniture that is used by all furnitures by default\n",
    "3. The user can be given an option to change the type of wood used for chair if he wishes to\n",
    "4. The number of legs of a chair should be a property that should not be altered outside the class\n",
    "'''\n",
    "class Furniture:\n",
    "    def __init__(self):\n",
    "        #set default value. Should be a protected attribute so that it can accessed by child class\n",
    "        self._woodType = \"Teakwood\"\n",
    "\n",
    "class Chair(Furniture):\n",
    "    def __init__(self):\n",
    "        # super is used to call base class methods. You will learn more about super in next section.\n",
    "        # Here we are calling the init of our base class to initialise the type of wood as Teakwood\n",
    "        super().__init__()\n",
    "        self.__numboflegs = 4\n",
    "        \n",
    "    def setWoodType(self,woodType):\n",
    "        self._woodType = woodType\n",
    "        \n",
    "    def displayInfo(self):\n",
    "        print(\"the furniture is made of {} and has {} legs\".format(self._woodType,self.__numboflegs))\n",
    "\n",
    "chairObj = Chair()\n",
    "userChoice = input(\"Do you want to change wood type (Y/N)? \")\n",
    "if userChoice.upper() == \"Y\":\n",
    "    wood = input(\"Enter type of wood: \")\n",
    "    chairObj.setWoodType(wood)\n",
    "chairObj.displayInfo()            "
   ]
  },
  {
   "cell_type": "code",
   "execution_count": 10,
   "metadata": {
    "collapsed": false
   },
   "outputs": [
    {
     "name": "stdout",
     "output_type": "stream",
     "text": [
      "40\n",
      "45\n",
      "40\n"
     ]
    }
   ],
   "source": [
    "#method overriding using super() -> using the super() immediately gives access to the parent class objects\n",
    "class Employee:\n",
    "    def setWorkingHours(self):\n",
    "        self.workinghours = 40\n",
    "    def displayWorkingHours(self):\n",
    "        print(self.workinghours)\n",
    "\n",
    "class Trainee(Employee):\n",
    "    def setWorkingHours(self):\n",
    "        self.workinghours = 45\n",
    "    def resetWorkingHours(self):\n",
    "        super().setWorkingHours()\n",
    "\n",
    "empObj = Employee()\n",
    "empObj.setWorkingHours()\n",
    "empObj.displayWorkingHours()\n",
    "trainObj = Trainee()\n",
    "trainObj.setWorkingHours()\n",
    "trainObj.displayWorkingHours()\n",
    "trainObj.resetWorkingHours()\n",
    "trainObj.displayWorkingHours() "
   ]
  },
  {
   "cell_type": "code",
   "execution_count": 7,
   "metadata": {
    "collapsed": false
   },
   "outputs": [
    {
     "name": "stdout",
     "output_type": "stream",
     "text": [
      "sum of squares : 36\n",
      "output of power function : 1024\n"
     ]
    }
   ],
   "source": [
    "'''\n",
    "Operator overloading : If we want to perform some basic arithemetic operation (add, multiply, etc.) in Python upon two class \n",
    "objects, we need to overload the operator since the common '+' or '*' will not be able to do it by default\n",
    "'''\n",
    "class myClass:\n",
    "    def __init__(self,side):\n",
    "        self.side = side\n",
    "    #overload operator\n",
    "    def __add__(sideOne,sideTwo):\n",
    "        #Note: here sideOne and sideTwo are class objects. So they each have the class attribute 'side'\n",
    "        #which we are going to use in the addition operation\n",
    "        return((4*sideOne.side)+(4*sideTwo.side))\n",
    "    \n",
    "    def __pow__(sideOne,sideTwo):\n",
    "        return(sideOne.side ** sideTwo.side)\n",
    "\n",
    "myClassobj1 = myClass(4)\n",
    "myClassobj2 = myClass(5)\n",
    "print(\"sum of squares : {}\".format(myClassobj1 + myClassobj2))\n",
    "print(\"output of power function : {}\".format(myClassobj1 ** myClassobj2))"
   ]
  },
  {
   "cell_type": "markdown",
   "metadata": {},
   "source": [
    "abc module : Abstract Base Class\n",
    "\n",
    "By defining an abstract base class, you can define a common API for a set of subclasses. This capability is especially\n",
    "useful in situations where a third-party is going to provide implementations, such as with plugins to an application, but can also aid you when working on a large team or with a large code-base where keeping all classes in your head at the same time is difficult or not possible.\n",
    "\n",
    "Note:\n",
    "\n",
    "1) If a class inherits an abc class, it has to define all the functions declared in the abstract base class. Else the compiler will automatically indicate which child class has not done so\n",
    "\n",
    "2) an abstract base class class can't instantiate of it's own object\n",
    "\n",
    "3) the abstract base class class is created as an instance of the ABCMeta class which is defined in abc module of python\n",
    "\n",
    "4) to define an abstract method, we have to use the @abstractmethod decorator"
   ]
  },
  {
   "cell_type": "code",
   "execution_count": 5,
   "metadata": {
    "collapsed": false
   },
   "outputs": [
    {
     "name": "stdout",
     "output_type": "stream",
     "text": [
      "Area of square : 16\n",
      "Area of rectangle : 20\n"
     ]
    }
   ],
   "source": [
    "from abc import ABCMeta,abstractmethod\n",
    "class Shape(metaclass = ABCMeta):\n",
    "    @abstractmethod\n",
    "    def area(self):\n",
    "        return 0\n",
    "\n",
    "class Square(Shape):\n",
    "    def __init__(self,side):\n",
    "        self.side = side\n",
    "    def area(self):\n",
    "        print(\"Area of square : {}\".format(self.side * self.side))\n",
    "\n",
    "class Rectangle(Shape):\n",
    "    def __init__(self,length,width):\n",
    "        self.length = length\n",
    "        self.width = width\n",
    "    def area(self):\n",
    "        print(\"Area of rectangle : {}\".format(self.length * self.width))\n",
    "\n",
    "squareObj = Square(4)\n",
    "rectObj = Rectangle(4,5)\n",
    "squareObj.area()\n",
    "rectObj.area()"
   ]
  },
  {
   "cell_type": "code",
   "execution_count": 8,
   "metadata": {
    "collapsed": false
   },
   "outputs": [
    {
     "name": "stdout",
     "output_type": "stream",
     "text": [
      "\n",
      " Welcome, Following are the banking options:\n",
      "\n",
      " Enter 1 for creating new account\n",
      "\n",
      " Enter 2 for existing account\n",
      "\n",
      " Enter any other number to exit\n",
      "\n",
      "enter your choice: 1\n",
      "\n",
      "enter name: jack\n",
      "\n",
      "enter amount: 500\n",
      "\n",
      " Account successfully created for jack\n",
      "dict_keys([55177])\n",
      "\n",
      " Account holder: jack\n",
      "\n",
      " Available balance for account : 55177 = 500\n",
      "\n",
      " Enter 1 for creating new account\n",
      "\n",
      " Enter 2 for existing account\n",
      "\n",
      " Enter any other number to exit\n",
      "\n",
      "enter your choice: 1\n",
      "\n",
      "enter name: will\n",
      "\n",
      "enter amount: 750\n",
      "\n",
      " Account successfully created for will\n",
      "dict_keys([55177, 43924])\n",
      "\n",
      " Account holder: will\n",
      "\n",
      " Available balance for account : 43924 = 750\n",
      "\n",
      " Enter 1 for creating new account\n",
      "\n",
      " Enter 2 for existing account\n",
      "\n",
      " Enter any other number to exit\n",
      "\n",
      "enter your choice: 2\n",
      "\n",
      "enter name of existing user: jack\n",
      "\n",
      "enter account number of existing user: 55177\n",
      "\n",
      " Account authentication successful for jack\n",
      "\n",
      " Enter 1 to withdraw amount\n",
      "\n",
      " Enter 2 to deposit amount\n",
      "\n",
      " Enter 3 to display balance\n",
      "\n",
      " Enter 4 or any other integer to go back to main menu\n",
      "\n",
      "enter your choice: 1\n",
      "\n",
      "enter amount to withdraw: 300\n",
      "\n",
      " 300 amount withdrawn from account : 55177\n",
      "\n",
      " Account holder: jack\n",
      "\n",
      " Available balance for account : 55177 = 200\n",
      "\n",
      " Enter 1 to withdraw amount\n",
      "\n",
      " Enter 2 to deposit amount\n",
      "\n",
      " Enter 3 to display balance\n",
      "\n",
      " Enter 4 or any other integer to go back to main menu\n",
      "\n",
      "enter your choice: 4\n",
      "\n",
      " Enter 1 for creating new account\n",
      "\n",
      " Enter 2 for existing account\n",
      "\n",
      " Enter any other number to exit\n",
      "\n",
      "enter your choice: 9\n"
     ]
    }
   ],
   "source": [
    "#Simulate a Banking System\n",
    "from random import randint\n",
    "from abc import ABCMeta,abstractmethod\n",
    "#define an abstract class which can then be inherited and functions extended\n",
    "class Bank(metaclass = ABCMeta):\n",
    "    @abstractmethod\n",
    "    def createAccount():\n",
    "        return 0\n",
    "    @abstractmethod\n",
    "    def validateDetails():\n",
    "        return 0\n",
    "    @abstractmethod\n",
    "    def withdraw():\n",
    "        return 0\n",
    "    @abstractmethod\n",
    "    def deposit():\n",
    "        return 0\n",
    "    @abstractmethod\n",
    "    def displayBalance():\n",
    "        return 0\n",
    "\n",
    "class SavingsAccount(Bank):\n",
    "    def __init__(self):\n",
    "        #define a dictionary to store user name and deposit amount. here account number will be the keys\n",
    "        #Concept : accountdetails[accountnumber][0] => name, accountdetails[accountnumber][1] => balance\n",
    "        self.accountdetails = {}\n",
    "    \n",
    "    def createAccount(self,name,deposit):\n",
    "        #assign a 5 digit random account number\n",
    "        self.accnumb = randint(10000,99999)\n",
    "        self.accountdetails[self.accnumb] = [name,deposit]\n",
    "        print(\"\\n Account successfully created for {}\".format(self.accountdetails[self.accnumb][0]))\n",
    "        self.displayBalance()\n",
    "    \n",
    "    def validateDetails(self,name,accountNumber):\n",
    "        #check if input accountNumber is present\n",
    "        if accountNumber in self.accountdetails.keys():\n",
    "            #check if the input name matches with the name corresponding to input accnumb\n",
    "            if name == self.accountdetails[accountNumber][0]:\n",
    "                self.accnumb = accountNumber\n",
    "                #the above statement is required since this account number will be used in subsequent operations\n",
    "                print(\"\\n Account authentication successful for {}\".format(self.accountdetails[self.accnumb][0]))\n",
    "                return True\n",
    "            else:\n",
    "                print(\"\\n Account authentication failed\")\n",
    "                return False\n",
    "        else:\n",
    "            print(\"\\n Account authentication failed\")\n",
    "            return False\n",
    "    \n",
    "    def withdraw(self,amount):\n",
    "        if self.accountdetails[self.accnumb][1] < amount:\n",
    "            print(\"\\n Insufficient balance\")\n",
    "        else:\n",
    "            self.accountdetails[self.accnumb][1] -= amount\n",
    "            print(\"\\n {} amount withdrawn from account : {}\".format(amount,self.accnumb))\n",
    "            #show remaining balance\n",
    "            self.displayBalance()\n",
    "    \n",
    "    def deposit(self,amount):\n",
    "        self.accountdetails[self.accnumb][1] +=amount\n",
    "        print(\"\\n {} amount deposited to account : {}\".format(amount, self.accnumb))\n",
    "        #show updated balance\n",
    "        self.displayBalance()\n",
    "        \n",
    "    def displayBalance(self):\n",
    "        print(\"\\n Account holder: {}\".format(self.accountdetails[self.accnumb][0]))\n",
    "        print(\"\\n Available balance for account : {} = {}\".format(self.accnumb,self.accountdetails[self.accnumb][1]))\n",
    "\n",
    "#create an object\n",
    "savingsObj = SavingsAccount()\n",
    "#display options\n",
    "print(\"\\n Welcome, Following are the banking options:\")\n",
    "flag1 = True\n",
    "while flag1 == True:\n",
    "    print(\"\\n Enter 1 for creating new account\")\n",
    "    print(\"\\n Enter 2 for existing account\")\n",
    "    print(\"\\n Enter any other number to exit\")\n",
    "    #get user choice\n",
    "    print()\n",
    "    userChoice1 = int(input(\"enter your choice: \"))\n",
    "    if userChoice1 == 1:\n",
    "        print()\n",
    "        name = input(\"enter name: \")\n",
    "        print()\n",
    "        amount = int(input(\"enter amount: \"))\n",
    "        savingsObj.createAccount(name,amount)\n",
    "    elif userChoice1 == 2:\n",
    "        #need to authenticate account first\n",
    "        print()\n",
    "        name = input(\"enter name of existing user: \")\n",
    "        print()\n",
    "        accnumb = int(input(\"enter account number of existing user: \"))\n",
    "        savingsAccountStatus = savingsObj.validateDetails(name,accnumb)\n",
    "        if savingsAccountStatus == True:\n",
    "            flag2 = True\n",
    "            while flag2 == True:\n",
    "                print(\"\\n Enter 1 to withdraw amount\")\n",
    "                print(\"\\n Enter 2 to deposit amount\")\n",
    "                print(\"\\n Enter 3 to display balance\")\n",
    "                print(\"\\n Enter 4 or any other integer to go back to main menu\")\n",
    "                print()\n",
    "                userChoice2 = int(input(\"enter your choice: \"))\n",
    "                if userChoice2 == 1:\n",
    "                    print()\n",
    "                    amount = int(input('enter amount to withdraw: '))\n",
    "                    savingsObj.withdraw(amount)\n",
    "                elif userChoice2 == 2:\n",
    "                    print()\n",
    "                    amount = int(input('enter amount to deposit: '))\n",
    "                    savingsObj.deposit(amount)\n",
    "                elif userChoice2 == 3:\n",
    "                    print()\n",
    "                    savingsObj.displayBalance()\n",
    "                else:\n",
    "                    flag2 = False\n",
    "                    break\n",
    "    else:\n",
    "        flag1 = False\n",
    "        break\n",
    "    "
   ]
  }
 ],
 "metadata": {
  "anaconda-cloud": {},
  "kernelspec": {
   "display_name": "Python [Root]",
   "language": "python",
   "name": "Python [Root]"
  },
  "language_info": {
   "codemirror_mode": {
    "name": "ipython",
    "version": 3
   },
   "file_extension": ".py",
   "mimetype": "text/x-python",
   "name": "python",
   "nbconvert_exporter": "python",
   "pygments_lexer": "ipython3",
   "version": "3.5.2"
  }
 },
 "nbformat": 4,
 "nbformat_minor": 2
}
