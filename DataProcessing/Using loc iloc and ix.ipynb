{
 "cells": [
  {
   "cell_type": "markdown",
   "metadata": {},
   "source": [
    "Refer links:\n",
    "    \n",
    "http://www.shanelynn.ie/select-pandas-dataframe-rows-and-columns-using-iloc-loc-and-ix/#comment-463"
   ]
  },
  {
   "cell_type": "code",
   "execution_count": null,
   "metadata": {
    "collapsed": true
   },
   "outputs": [],
   "source": [
    "import pandas as pd\n",
    "import random"
   ]
  },
  {
   "cell_type": "code",
   "execution_count": 42,
   "metadata": {
    "collapsed": false
   },
   "outputs": [
    {
     "data": {
      "text/html": [
       "<div>\n",
       "<table border=\"1\" class=\"dataframe\">\n",
       "  <thead>\n",
       "    <tr style=\"text-align: right;\">\n",
       "      <th></th>\n",
       "      <th>first_name</th>\n",
       "      <th>last_name</th>\n",
       "      <th>company_name</th>\n",
       "      <th>address</th>\n",
       "      <th>city</th>\n",
       "      <th>county</th>\n",
       "      <th>postal</th>\n",
       "      <th>phone1</th>\n",
       "      <th>phone2</th>\n",
       "      <th>email</th>\n",
       "      <th>web</th>\n",
       "      <th>id</th>\n",
       "    </tr>\n",
       "  </thead>\n",
       "  <tbody>\n",
       "    <tr>\n",
       "      <th>0</th>\n",
       "      <td>Aleshia</td>\n",
       "      <td>Tomkiewicz</td>\n",
       "      <td>Alan D Rosenburg Cpa Pc</td>\n",
       "      <td>14 Taylor St</td>\n",
       "      <td>St. Stephens Ward</td>\n",
       "      <td>Kent</td>\n",
       "      <td>CT2 7PP</td>\n",
       "      <td>01835-703597</td>\n",
       "      <td>01944-369967</td>\n",
       "      <td>atomkiewicz@hotmail.com</td>\n",
       "      <td>http://www.alandrosenburgcpapc.co.uk</td>\n",
       "      <td>810</td>\n",
       "    </tr>\n",
       "    <tr>\n",
       "      <th>1</th>\n",
       "      <td>Evan</td>\n",
       "      <td>Zigomalas</td>\n",
       "      <td>Cap Gemini America</td>\n",
       "      <td>5 Binney St</td>\n",
       "      <td>Abbey Ward</td>\n",
       "      <td>Buckinghamshire</td>\n",
       "      <td>HP11 2AX</td>\n",
       "      <td>01937-864715</td>\n",
       "      <td>01714-737668</td>\n",
       "      <td>evan.zigomalas@gmail.com</td>\n",
       "      <td>http://www.capgeminiamerica.co.uk</td>\n",
       "      <td>97</td>\n",
       "    </tr>\n",
       "    <tr>\n",
       "      <th>2</th>\n",
       "      <td>France</td>\n",
       "      <td>Andrade</td>\n",
       "      <td>Elliott, John W Esq</td>\n",
       "      <td>8 Moor Place</td>\n",
       "      <td>East Southbourne and Tuckton W</td>\n",
       "      <td>Bournemouth</td>\n",
       "      <td>BH6 3BE</td>\n",
       "      <td>01347-368222</td>\n",
       "      <td>01935-821636</td>\n",
       "      <td>france.andrade@hotmail.com</td>\n",
       "      <td>http://www.elliottjohnwesq.co.uk</td>\n",
       "      <td>846</td>\n",
       "    </tr>\n",
       "    <tr>\n",
       "      <th>3</th>\n",
       "      <td>Ulysses</td>\n",
       "      <td>Mcwalters</td>\n",
       "      <td>Mcmahan, Ben L</td>\n",
       "      <td>505 Exeter Rd</td>\n",
       "      <td>Hawerby cum Beesby</td>\n",
       "      <td>Lincolnshire</td>\n",
       "      <td>DN36 5RP</td>\n",
       "      <td>01912-771311</td>\n",
       "      <td>01302-601380</td>\n",
       "      <td>ulysses@hotmail.com</td>\n",
       "      <td>http://www.mcmahanbenl.co.uk</td>\n",
       "      <td>445</td>\n",
       "    </tr>\n",
       "    <tr>\n",
       "      <th>4</th>\n",
       "      <td>Tyisha</td>\n",
       "      <td>Veness</td>\n",
       "      <td>Champagne Room</td>\n",
       "      <td>5396 Forth Street</td>\n",
       "      <td>Greets Green and Lyng Ward</td>\n",
       "      <td>West Midlands</td>\n",
       "      <td>B70 9DT</td>\n",
       "      <td>01547-429341</td>\n",
       "      <td>01290-367248</td>\n",
       "      <td>tyisha.veness@hotmail.com</td>\n",
       "      <td>http://www.champagneroom.co.uk</td>\n",
       "      <td>846</td>\n",
       "    </tr>\n",
       "    <tr>\n",
       "      <th>5</th>\n",
       "      <td>Eric</td>\n",
       "      <td>Rampy</td>\n",
       "      <td>Thompson, Michael C Esq</td>\n",
       "      <td>9472 Lind St</td>\n",
       "      <td>Desborough</td>\n",
       "      <td>Northamptonshire</td>\n",
       "      <td>NN14 2GH</td>\n",
       "      <td>01969-886290</td>\n",
       "      <td>01545-817375</td>\n",
       "      <td>erampy@rampy.co.uk</td>\n",
       "      <td>http://www.thompsonmichaelcesq.co.uk</td>\n",
       "      <td>984</td>\n",
       "    </tr>\n",
       "    <tr>\n",
       "      <th>6</th>\n",
       "      <td>Marg</td>\n",
       "      <td>Grasmick</td>\n",
       "      <td>Wrangle Hill Auto Auct &amp; Slvg</td>\n",
       "      <td>7457 Cowl St #70</td>\n",
       "      <td>Bargate Ward</td>\n",
       "      <td>Southampton</td>\n",
       "      <td>SO14 3TY</td>\n",
       "      <td>01865-582516</td>\n",
       "      <td>01362-620532</td>\n",
       "      <td>marg@hotmail.com</td>\n",
       "      <td>http://www.wranglehillautoauctslvg.co.uk</td>\n",
       "      <td>931</td>\n",
       "    </tr>\n",
       "  </tbody>\n",
       "</table>\n",
       "</div>"
      ],
      "text/plain": [
       "  first_name   last_name                   company_name            address  \\\n",
       "0    Aleshia  Tomkiewicz        Alan D Rosenburg Cpa Pc       14 Taylor St   \n",
       "1       Evan   Zigomalas             Cap Gemini America        5 Binney St   \n",
       "2     France     Andrade            Elliott, John W Esq       8 Moor Place   \n",
       "3    Ulysses   Mcwalters                 Mcmahan, Ben L      505 Exeter Rd   \n",
       "4     Tyisha      Veness                 Champagne Room  5396 Forth Street   \n",
       "5       Eric       Rampy        Thompson, Michael C Esq       9472 Lind St   \n",
       "6       Marg    Grasmick  Wrangle Hill Auto Auct & Slvg   7457 Cowl St #70   \n",
       "\n",
       "                             city            county    postal        phone1  \\\n",
       "0               St. Stephens Ward              Kent   CT2 7PP  01835-703597   \n",
       "1                      Abbey Ward   Buckinghamshire  HP11 2AX  01937-864715   \n",
       "2  East Southbourne and Tuckton W       Bournemouth   BH6 3BE  01347-368222   \n",
       "3              Hawerby cum Beesby      Lincolnshire  DN36 5RP  01912-771311   \n",
       "4      Greets Green and Lyng Ward     West Midlands   B70 9DT  01547-429341   \n",
       "5                      Desborough  Northamptonshire  NN14 2GH  01969-886290   \n",
       "6                    Bargate Ward       Southampton  SO14 3TY  01865-582516   \n",
       "\n",
       "         phone2                       email  \\\n",
       "0  01944-369967     atomkiewicz@hotmail.com   \n",
       "1  01714-737668    evan.zigomalas@gmail.com   \n",
       "2  01935-821636  france.andrade@hotmail.com   \n",
       "3  01302-601380         ulysses@hotmail.com   \n",
       "4  01290-367248   tyisha.veness@hotmail.com   \n",
       "5  01545-817375          erampy@rampy.co.uk   \n",
       "6  01362-620532            marg@hotmail.com   \n",
       "\n",
       "                                        web   id  \n",
       "0      http://www.alandrosenburgcpapc.co.uk  810  \n",
       "1         http://www.capgeminiamerica.co.uk   97  \n",
       "2          http://www.elliottjohnwesq.co.uk  846  \n",
       "3              http://www.mcmahanbenl.co.uk  445  \n",
       "4            http://www.champagneroom.co.uk  846  \n",
       "5      http://www.thompsonmichaelcesq.co.uk  984  \n",
       "6  http://www.wranglehillautoauctslvg.co.uk  931  "
      ]
     },
     "execution_count": 42,
     "metadata": {},
     "output_type": "execute_result"
    }
   ],
   "source": [
    "# read the data from the downloaded CSV file.\n",
    "data = pd.read_csv('https://s3-eu-west-1.amazonaws.com/shanebucket/downloads/uk-500.csv')\n",
    "# set a numeric id for use as an index for examples.\n",
    "data['id'] = [random.randint(0,1000) for x in range(data.shape[0])]\n",
    "data.head(7)"
   ]
  },
  {
   "cell_type": "markdown",
   "metadata": {},
   "source": [
    "Selecting pandas data using “iloc”\n",
    "\n",
    "The iloc indexer for Pandas Dataframe is used for integer-location based indexing / selection by position.\n",
    "\n",
    "The iloc indexer syntax is data.iloc[<row selection>, <column selection>], which is sure to be a source of confusion for R users. “iloc” in pandas is used to select rows and columns by number, in the order that they appear in the data frame. You can imagine that each row has a row number from 0 to the total rows (data.shape[0])  and iloc[] allows selections based on these numbers. The same applies for columns (ranging from 0 to data.shape[1] )\n",
    "\n",
    "There are two “arguments” to iloc – a row selector, and a column selector. \n"
   ]
  },
  {
   "cell_type": "code",
   "execution_count": null,
   "metadata": {
    "collapsed": false
   },
   "outputs": [],
   "source": [
    "# first row of data frame\n",
    "print(data.iloc[0,:])\n",
    "# last row of data frame (Mi Richan)\n",
    "print(data.iloc[-1,:])\n",
    "# second column of data frame (last_name)\n",
    "print(data.iloc[:,1])\n",
    "#first 5 rows and 5th, 6th, 7th columns of data frame\n",
    "print(data.iloc[0:5,4:7])\n",
    "# 1st, 4th, 7th, 25th row + 1st 6th 7th columns.\n",
    "print(data.iloc[[0,3,6,24],[0,5,6]])"
   ]
  },
  {
   "cell_type": "markdown",
   "metadata": {},
   "source": [
    "There’s two gotchas to remember when using iloc in this manner:\n",
    "\n",
    "1) Note that .iloc returns a Pandas Series when one row is selected, and a Pandas DataFrame when multiple rows are selected, or if any column in full is selected. To counter this, pass a single-valued list if you require DataFrame output.\n",
    "2) When selecting multiple columns or multiple rows in this manner, remember that in your selection e.g.[1:5], the rows/columns selected will run from the first number to one minus the second number. e.g. [1:5] will go 1,2,3,4., [x,y] goes from x to y-1"
   ]
  },
  {
   "cell_type": "markdown",
   "metadata": {},
   "source": [
    "Selecting pandas data using “loc”\n",
    "\n",
    "The Pandas loc indexer can be used with DataFrames for two different use cases:\n",
    "\n",
    "    a.) Selecting rows by label/index\n",
    "    b.) Selecting rows with a boolean / conditional lookup"
   ]
  },
  {
   "cell_type": "code",
   "execution_count": null,
   "metadata": {
    "collapsed": false
   },
   "outputs": [],
   "source": [
    "#Label-based / Index-based indexing using .loc\n",
    "data.set_index(\"last_name\", inplace=True)\n",
    "data.head()"
   ]
  },
  {
   "cell_type": "code",
   "execution_count": null,
   "metadata": {
    "collapsed": false
   },
   "outputs": [],
   "source": [
    "#this will give a series\n",
    "print(data.loc['Andrade'])\n",
    "#this will give in a dataframe format\n",
    "print(data.loc[['Andrade']])\n",
    "#select multiple rows and columns\n",
    "print(data.loc[['Andrade','Veness'],['city','county','postal']])\n",
    "# Select rows with index values 'Andrade' to 'Veness', with all columns between 'city' and 'email'\n",
    "print(data.loc['Andrade':'Veness','city':'email'])\n",
    "#resetting the index\n",
    "data.reset_index(inplace=True)\n",
    "# Change the index to be based on the 'id' column\n",
    "data1 = data.set_index('id')\n",
    "print(data1.loc[63])\n",
    "#Note the difference with using iloc. Here iloc will give the series corresponding to 63rd observation\n",
    "print(data1.iloc[63])"
   ]
  },
  {
   "cell_type": "code",
   "execution_count": null,
   "metadata": {
    "collapsed": false
   },
   "outputs": [],
   "source": [
    "#Boolean / Logical indexing using .loc\n",
    "#select company_name,email and phone for first name Erasmo\n",
    "print(data.loc[data['first_name']=='Erasmo',['first_name','company_name','email','phone1']])\n",
    "#here again, if a single is required and we want it in a series format,give it in form of sinle values list\n",
    "print(data.loc[data['first_name']=='Erasmo',['email']])\n",
    "# Select rows with first name Antonio, # and all columns between 'city' and 'email'\n",
    "print(data.loc[data['first_name'] == 'Antonio', 'city':'email'])\n",
    "# Select rows where the email column ends with 'hotmail.com', include above 2 cols\n",
    "print(data.loc[data['email'].str.endswith(\"hotmail.com\"),'city':'email'])\n",
    "# Select rows with last_name equal to some values, all columns\n",
    "print(data.loc[data['first_name'].isin(['France', 'Tyisha', 'Eric'])])\n",
    "# Select rows with first name Antonio AND hotmail email addresses\n",
    "print(data.loc[data['email'].str.endswith(\"gmail.com\") & (data['first_name'] == 'Antonio')])\n",
    "# select rows with id column between 100 and 200, and just return 'postal' and 'web' columns\n",
    "print(data.loc[(data['id'] > 100) & (data['id'] <= 200), ['postal', 'web']])\n",
    "# A lambda function that yields True/False values can also be used.\n",
    "# Select rows where the company name has 4 words in it.\n",
    "print(data.loc[data['company_name'].apply(lambda x: len(x.split(' ')) == 4)]) \n",
    "# Selections can be achieved outside of the main .loc for clarity:\n",
    "# Form a separate variable with your selections:\n",
    "idx = data['company_name'].apply(lambda x: len(x.split(' ')) == 4)\n",
    "# Select only the True values in 'idx' and only the 3 columns specified:\n",
    "print(data.loc[idx, ['email', 'first_name', 'company']])"
   ]
  },
  {
   "cell_type": "markdown",
   "metadata": {},
   "source": [
    "Selecting pandas data using ix\n",
    "\n",
    "The ix[] indexer is a hybrid of .loc and .iloc. Generally, ix is label based and acts just as the .loc indexer. However, .ix also supports integer type selections (as in .iloc) where passed an integer. This only works where the index of the DataFrame is not integer based. ix will accept any of the inputs of .loc and .iloc"
   ]
  },
  {
   "cell_type": "code",
   "execution_count": 47,
   "metadata": {
    "collapsed": false
   },
   "outputs": [
    {
     "name": "stdout",
     "output_type": "stream",
     "text": [
      "7457 Cowl St #70\n",
      "Andrade\n"
     ]
    }
   ],
   "source": [
    "# Select the third cell in the row named Marg.\n",
    "#hence first set the first_name as index\n",
    "data.reset_index(inplace=True)\n",
    "data.set_index('first_name',inplace = True)\n",
    "print(data.ix['Marg',2])\n",
    "#Select the 3rd cell in the column last_name\n",
    "print(data.ix[2,'last_name'])"
   ]
  }
 ],
 "metadata": {
  "kernelspec": {
   "display_name": "Python [Root]",
   "language": "python",
   "name": "Python [Root]"
  },
  "language_info": {
   "codemirror_mode": {
    "name": "ipython",
    "version": 3
   },
   "file_extension": ".py",
   "mimetype": "text/x-python",
   "name": "python",
   "nbconvert_exporter": "python",
   "pygments_lexer": "ipython3",
   "version": "3.5.2"
  }
 },
 "nbformat": 4,
 "nbformat_minor": 0
}
