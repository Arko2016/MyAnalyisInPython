{
 "cells": [
  {
   "cell_type": "markdown",
   "metadata": {},
   "source": [
    "# The notebook contains the description about basic Python data structures"
   ]
  },
  {
   "cell_type": "code",
   "execution_count": null,
   "metadata": {
    "collapsed": false
   },
   "outputs": [],
   "source": [
    "#List\n",
    "#They are mutable. Can consist of different values\n",
    "#index from 0\n",
    "mylist = [2,3,4,5,6]\n",
    "print(mylist[2])\n",
    "#will give 2nd last element\n",
    "print(mylist[-2])\n",
    "mylist[2] = 9\n",
    "print(mylist)\n",
    "#the range is from Start index to Last Index - 1\n",
    "print(mylist[2:4])"
   ]
  },
  {
   "cell_type": "code",
   "execution_count": null,
   "metadata": {
    "collapsed": false
   },
   "outputs": [],
   "source": [
    "#Strings\n",
    "#They are immutable\n",
    "#Can be enclosed in single, double or triple quotes\n",
    "#triple quotes strings span over multiple lines\n",
    "mystring = \"helloGirl\"\n",
    "print(mystring[1])\n",
    "print(mystring[-1])\n",
    "#this will give error since string is immutable\n",
    "#mystring[2] = \"y\""
   ]
  },
  {
   "cell_type": "code",
   "execution_count": null,
   "metadata": {
    "collapsed": false
   },
   "outputs": [],
   "source": [
    "#Tuples\n",
    "#same as Lists but are immutable. hence faster processing but preferable only if data does not change\n",
    "mytuple = (1,2,3,4)\n",
    "print(mytuple)\n",
    "print(mytuple[3])\n",
    "#the following should give error\n",
    "mytuple[1] = 5"
   ]
  },
  {
   "cell_type": "code",
   "execution_count": 19,
   "metadata": {
    "collapsed": false
   },
   "outputs": [
    {
     "name": "stdout",
     "output_type": "stream",
     "text": [
      "54\n",
      "dict_keys(['Mala', 'Ashok', 'Jim'])\n",
      "dict_values([12, 54, 64])\n"
     ]
    }
   ],
   "source": [
    "#Dictionary\n",
    "#Unordered set of key value pairs\n",
    "#Keys should be Unique\n",
    "#They are mutable\n",
    "mydict = {'Ashok':54,'Jim':56,'Mala':12}\n",
    "print(mydict['Ashok'])\n",
    "mydict['Jim'] = 64\n",
    "print(mydict.keys())\n",
    "print(mydict.values())"
   ]
  }
 ],
 "metadata": {
  "kernelspec": {
   "display_name": "Python [Root]",
   "language": "python",
   "name": "Python [Root]"
  },
  "language_info": {
   "codemirror_mode": {
    "name": "ipython",
    "version": 3
   },
   "file_extension": ".py",
   "mimetype": "text/x-python",
   "name": "python",
   "nbconvert_exporter": "python",
   "pygments_lexer": "ipython3",
   "version": "3.5.2"
  }
 },
 "nbformat": 4,
 "nbformat_minor": 0
}
