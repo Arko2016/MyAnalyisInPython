{
  "nbformat": 4,
  "nbformat_minor": 0,
  "metadata": {
    "colab": {
      "name": "Gradient Descent Code.ipynb",
      "provenance": [],
      "collapsed_sections": [],
      "authorship_tag": "ABX9TyOnj3Fg4dTrlI7B/UtaG6eB",
      "include_colab_link": true
    },
    "kernelspec": {
      "name": "python3",
      "display_name": "Python 3"
    }
  },
  "cells": [
    {
      "cell_type": "markdown",
      "metadata": {
        "id": "view-in-github",
        "colab_type": "text"
      },
      "source": [
        "<a href=\"https://colab.research.google.com/github/Arko2016/MyAnalyisInPython/blob/master/Gradient_Descent_Code.ipynb\" target=\"_parent\"><img src=\"https://colab.research.google.com/assets/colab-badge.svg\" alt=\"Open In Colab\"/></a>"
      ]
    },
    {
      "cell_type": "code",
      "metadata": {
        "id": "9WYTwVRtkf2k",
        "colab_type": "code",
        "colab": {}
      },
      "source": [
        "import numpy as np \n",
        "import pandas as pd \n",
        "import matplotlib.pyplot as plt"
      ],
      "execution_count": 0,
      "outputs": []
    },
    {
      "cell_type": "markdown",
      "metadata": {
        "id": "L0veUA_Ul_ap",
        "colab_type": "text"
      },
      "source": [
        "Data Ingestion"
      ]
    },
    {
      "cell_type": "code",
      "metadata": {
        "id": "ewgUvUNLl-Mi",
        "colab_type": "code",
        "outputId": "8ef7df90-9f22-4d70-aa00-5173df17f6e0",
        "colab": {
          "base_uri": "https://localhost:8080/",
          "height": 204
        }
      },
      "source": [
        "url = 'https://raw.githubusercontent.com/Arko2016/Datasets/master/gradientdescent_inputdata.csv'\n",
        "data = pd.read_csv(url)\n",
        "data.head()"
      ],
      "execution_count": 128,
      "outputs": [
        {
          "output_type": "execute_result",
          "data": {
            "text/html": [
              "<div>\n",
              "<style scoped>\n",
              "    .dataframe tbody tr th:only-of-type {\n",
              "        vertical-align: middle;\n",
              "    }\n",
              "\n",
              "    .dataframe tbody tr th {\n",
              "        vertical-align: top;\n",
              "    }\n",
              "\n",
              "    .dataframe thead th {\n",
              "        text-align: right;\n",
              "    }\n",
              "</style>\n",
              "<table border=\"1\" class=\"dataframe\">\n",
              "  <thead>\n",
              "    <tr style=\"text-align: right;\">\n",
              "      <th></th>\n",
              "      <th>GrLivArea</th>\n",
              "      <th>SalePrice</th>\n",
              "    </tr>\n",
              "  </thead>\n",
              "  <tbody>\n",
              "    <tr>\n",
              "      <th>0</th>\n",
              "      <td>1710</td>\n",
              "      <td>208500</td>\n",
              "    </tr>\n",
              "    <tr>\n",
              "      <th>1</th>\n",
              "      <td>1262</td>\n",
              "      <td>181500</td>\n",
              "    </tr>\n",
              "    <tr>\n",
              "      <th>2</th>\n",
              "      <td>1786</td>\n",
              "      <td>223500</td>\n",
              "    </tr>\n",
              "    <tr>\n",
              "      <th>3</th>\n",
              "      <td>1717</td>\n",
              "      <td>140000</td>\n",
              "    </tr>\n",
              "    <tr>\n",
              "      <th>4</th>\n",
              "      <td>2198</td>\n",
              "      <td>250000</td>\n",
              "    </tr>\n",
              "  </tbody>\n",
              "</table>\n",
              "</div>"
            ],
            "text/plain": [
              "   GrLivArea  SalePrice\n",
              "0       1710     208500\n",
              "1       1262     181500\n",
              "2       1786     223500\n",
              "3       1717     140000\n",
              "4       2198     250000"
            ]
          },
          "metadata": {
            "tags": []
          },
          "execution_count": 128
        }
      ]
    },
    {
      "cell_type": "markdown",
      "metadata": {
        "id": "keOzT6HSKPu8",
        "colab_type": "text"
      },
      "source": [
        "Define a class for linear regression\n",
        "\n",
        "The class should have methods for followng tasks:\n",
        "\n",
        "\n",
        "1. define x, y and coefficient weights. here, x is independent variable and y is dependent variable\n",
        "2. generate predicted values for y\n",
        "3. create a plot for line of best fit using predicted and actual values of y\n",
        "4. calculate cost\n",
        "5. update coefficients \n",
        "6. calculate accuracy\n",
        "\n",
        "\n"
      ]
    },
    {
      "cell_type": "code",
      "metadata": {
        "id": "i36hC90OIGWB",
        "colab_type": "code",
        "colab": {}
      },
      "source": [
        "#define global variables for storing intercept and coefficients\n",
        "#these will be updated in the below class methods\n",
        "inter,co = 0,0"
      ],
      "execution_count": 0,
      "outputs": []
    },
    {
      "cell_type": "code",
      "metadata": {
        "id": "Z9Wc2yj6Ldpz",
        "colab_type": "code",
        "colab": {}
      },
      "source": [
        "class linear_regression():\n",
        "  #method 1\n",
        "  def __init__(self,x,y):\n",
        "    self.x = x\n",
        "    self.y = y\n",
        "    #set seed\n",
        "    np.random.seed(123)\n",
        "    #assign random starting values for coefficients \n",
        "    self.b = np.random.rand(2).tolist()\n",
        "  \n",
        "  #method 2\n",
        "  def get_preds(self,x=[]):\n",
        "    if not x:\n",
        "      x = self.x\n",
        "    #get coefficients\n",
        "    b = self.b\n",
        "    #define an empty array for storing predictions\n",
        "    y_preds = np.array([])\n",
        "    #generate and append predicted values for each value of x\n",
        "    for X in x:\n",
        "      y_preds = np.append(y_preds, b[0] + (b[1] * X))\n",
        "    return y_preds\n",
        "  \n",
        "  #method 3\n",
        "  def plot_bestfit(self,y_preds,title):\n",
        "    f = plt.figure()\n",
        "    plt.scatter(self.x,self.y,color = \"blue\")\n",
        "    plt.plot(self.x,y_preds,color = \"green\")\n",
        "    plt.title(title)\n",
        "    f.show()\n",
        "  \n",
        "  #method 4\n",
        "  def calc_cost(self,y_preds):\n",
        "    #get number of obsv\n",
        "    m = len(self.y)\n",
        "    cost = (1/(2 * m)) * (np.sum(y_preds - self.y)**2)\n",
        "    return cost\n",
        "  \n",
        "  #method 5\n",
        "  def update_coeffs(self,learning_rate):\n",
        "    y = self.y\n",
        "    y_preds = self.get_preds()\n",
        "    #get number of obsv\n",
        "    m = len(self.y)\n",
        "    \n",
        "    #update intercept\n",
        "    grade_b0 =  (1/m) * np.sum(y_preds - y)\n",
        "    step_b0 = grade_b0 * learning_rate\n",
        "    self.b[0] = self.b[0] - step_b0\n",
        "    \n",
        "    #update coefficient \n",
        "    grade_b1 =  (1/m) * np.sum((y_preds - y) * self.x)\n",
        "    step_b1 = grade_b1 * learning_rate\n",
        "    self.b[1] = self.b[1] - step_b1\n",
        "    \n",
        "    #store the values of intercept and coefficient\n",
        "    global inter\n",
        "    inter = self.b[0]\n",
        "    global co\n",
        "    co = self.b[1]\n",
        "  \n",
        "  #method 6\n",
        "  def calc_acc(self,y_preds):\n",
        "    p, e = y_preds, self.y\n",
        "    n = len(e)\n",
        "    return 1 - sum([abs(p[i] - e[i])/e[i] for i in range(n) if e[i] != 0])/n\n"
      ],
      "execution_count": 0,
      "outputs": []
    },
    {
      "cell_type": "markdown",
      "metadata": {
        "id": "lVuCJtIeUZT4",
        "colab_type": "text"
      },
      "source": [
        "Define a main method to invoke linear regression class and perform operations"
      ]
    },
    {
      "cell_type": "code",
      "metadata": {
        "id": "-0HRnMcrUXPs",
        "colab_type": "code",
        "colab": {
          "base_uri": "https://localhost:8080/",
          "height": 939
        },
        "outputId": "6f176b51-3a41-4689-e645-4ef15f0f3603"
      },
      "source": [
        "def main():\n",
        "  #x = np.array([i for i in range(11)])\n",
        "  #y = np.array([2*i for i in range(11)])\n",
        "\n",
        "  #get x and y values from dataset\n",
        "  x = np.array(data['GrLivArea'])\n",
        "  #standardize the predictor variable values\n",
        "  x = (x - x.mean())/x.std()\n",
        "  y = np.array(data['SalePrice'])\n",
        "  \n",
        "  #create object for regression class\n",
        "  obj = linear_regression(x,y)\n",
        "  \n",
        "  #generate initial set of predictions and plot\n",
        "  y_preds = obj.get_preds()\n",
        "  obj.plot_bestfit(y_preds,\"Initial line of fit\")\n",
        "  \n",
        "  #define input parameters\n",
        "  learning_rate = 0.01\n",
        "  iterations = 0\n",
        "  steps = 2000\n",
        "  costs = []\n",
        "\n",
        "  while 1:\n",
        "    #generate predictions\n",
        "    y_preds = obj.get_preds()\n",
        "    #calculate cost\n",
        "    cost = obj.calc_cost(y_preds)\n",
        "    #append to list for costs\n",
        "    costs.append(cost)\n",
        "    #update intercept and coefficients\n",
        "    obj.update_coeffs(learning_rate)\n",
        "    #increment iterations\n",
        "    iterations += 1\n",
        "    #stopping criteria\n",
        "    if iterations % steps == 0:\n",
        "      acc = obj.calc_acc(y_preds)\n",
        "      print(\"Accuracy: {}\".format(acc))\n",
        "      cond = input(\"do you want to continue?(y/*)\")\n",
        "      if cond != 'y':\n",
        "        break\n",
        "  \n",
        "  #plot line of best fit\n",
        "  obj.plot_bestfit(y_preds,\"line of best fit\")\n",
        "  print(\"Intercept: {}, Coefficient: {}\".format(inter, co))\n",
        "\n",
        "  #plot cost function against interations - show gradient descent\n",
        "  f = plt.figure()\n",
        "  plt.plot(range(iterations),costs,color = \"blue\")\n",
        "  plt.title(\"Cost function\")\n",
        "  plt.xlabel(\"iterations\")\n",
        "  plt.ylabel(\"cost\")\n",
        "  plt.show()\n",
        "      \n",
        "if __name__ == '__main__':\n",
        "  main()"
      ],
      "execution_count": 125,
      "outputs": [
        {
          "output_type": "stream",
          "text": [
            "Accuracy: 0.7744757483226835\n",
            "do you want to continue?(y/*)y\n",
            "Accuracy: 0.7744757478310692\n",
            "do you want to continue?(y/*)n\n",
            "180921.19589040952 56275.61972722052\n"
          ],
          "name": "stdout"
        },
        {
          "output_type": "display_data",
          "data": {
            "image/png": "[encoded data removed]",
            "text/plain": [
              "<Figure size 432x288 with 1 Axes>"
            ]
          },
          "metadata": {
            "tags": []
          }
        },
        {
          "output_type": "display_data",
          "data": {
            "image/png": "[encoded data removed]",
            "text/plain": [
              "<Figure size 432x288 with 1 Axes>"
            ]
          },
          "metadata": {
            "tags": []
          }
        },
        {
          "output_type": "display_data",
          "data": {
            "image/png": "[encoded data removed]",
            "text/plain": [
              "<Figure size 432x288 with 1 Axes>"
            ]
          },
          "metadata": {
            "tags": []
          }
        }
      ]
    }
  ]
}